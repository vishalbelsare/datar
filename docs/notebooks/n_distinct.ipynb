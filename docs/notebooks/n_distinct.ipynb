{
 "cells": [
  {
   "cell_type": "code",
   "execution_count": 1,
   "id": "several-cowboy",
   "metadata": {
    "execution": {
     "iopub.execute_input": "2021-07-16T22:28:07.196543Z",
     "iopub.status.busy": "2021-07-16T22:28:07.195916Z",
     "iopub.status.idle": "2021-07-16T22:28:08.127610Z",
     "shell.execute_reply": "2021-07-16T22:28:08.128233Z"
    }
   },
   "outputs": [
    {
     "data": {
      "text/html": [
       "<div style=\"text-align: right; text-style: italic\">Try this notebook on <a target=\"_blank\" href=\"https://mybinder.org/v2/gh/pwwang/datar/dev?filepath=docs%2Fnotebooks%2Fn_distinct.ipynb\">binder</a>.</div>"
      ],
      "text/plain": [
       "<IPython.core.display.HTML object>"
      ]
     },
     "metadata": {},
     "output_type": "display_data"
    },
    {
     "data": {
      "text/markdown": [
       "### <div style=\"background-color: #EEE; padding: 5px 0 8px 0\">★ sample</div>"
      ],
      "text/plain": [
       "<IPython.core.display.Markdown object>"
      ]
     },
     "metadata": {},
     "output_type": "display_data"
    },
    {
     "data": {
      "text/markdown": [
       "##### Sample a vector\n",
       "\n",
       "##### Args:\n",
       "&emsp;&emsp;`x`: a vector or scaler  \n",
       "&emsp;&emsp;`size`: the size of the sample  \n",
       "&emsp;&emsp;`replace`: whether to sample with replacement  \n",
       "&emsp;&emsp;`prob`: the probabilities of sampling each element  \n",
       "\n",
       "##### Returns:\n",
       "&emsp;&emsp;The sampled vector  \n"
      ],
      "text/plain": [
       "<IPython.core.display.Markdown object>"
      ]
     },
     "metadata": {},
     "output_type": "display_data"
    },
    {
     "data": {
      "text/markdown": [
       "### <div style=\"background-color: #EEE; padding: 5px 0 8px 0\">★ n_distinct</div>"
      ],
      "text/plain": [
       "<IPython.core.display.Markdown object>"
      ]
     },
     "metadata": {},
     "output_type": "display_data"
    },
    {
     "data": {
      "text/markdown": [
       "##### Count the number of distinct values\n",
       "\n",
       "The original API:  \n",
       "https://dplyr.tidyverse.org/reference/distinct.html  \n",
       "\n",
       "##### Args:\n",
       "&emsp;&emsp;`_data`: A data frame  \n",
       "&emsp;&emsp;`na_rm`: If `True`, remove missing values before counting.  \n",
       "\n",
       "##### Returns:\n",
       "&emsp;&emsp;The number of distinct values  \n"
      ],
      "text/plain": [
       "<IPython.core.display.Markdown object>"
      ]
     },
     "metadata": {},
     "output_type": "display_data"
    }
   ],
   "source": [
    "# https://dplyr.tidyverse.org/reference/n_distinct.html\n",
    "%run nb_helpers.py\n",
    "\n",
    "from datar.all import sample, n_distinct\n",
    "\n",
    "nb_header(sample, n_distinct, book='n_distinct')"
   ]
  },
  {
   "cell_type": "code",
   "execution_count": 2,
   "id": "sharing-michigan",
   "metadata": {
    "execution": {
     "iopub.execute_input": "2021-07-16T22:28:08.142741Z",
     "iopub.status.busy": "2021-07-16T22:28:08.141395Z",
     "iopub.status.idle": "2021-07-16T22:28:08.149693Z",
     "shell.execute_reply": "2021-07-16T22:28:08.150142Z"
    }
   },
   "outputs": [
    {
     "data": {
      "text/plain": [
       "100000"
      ]
     },
     "execution_count": 2,
     "metadata": {},
     "output_type": "execute_result"
    }
   ],
   "source": [
    "x = sample(range(10), 1e5, replace=True)\n",
    "len(x)"
   ]
  },
  {
   "cell_type": "code",
   "execution_count": 3,
   "id": "interested-store",
   "metadata": {
    "execution": {
     "iopub.execute_input": "2021-07-16T22:28:08.215359Z",
     "iopub.status.busy": "2021-07-16T22:28:08.214713Z",
     "iopub.status.idle": "2021-07-16T22:28:08.311083Z",
     "shell.execute_reply": "2021-07-16T22:28:08.310511Z"
    }
   },
   "outputs": [
    {
     "data": {
      "text/plain": [
       "10"
      ]
     },
     "execution_count": 3,
     "metadata": {},
     "output_type": "execute_result"
    }
   ],
   "source": [
    "n_distinct(x)"
   ]
  }
 ],
 "metadata": {
  "kernelspec": {
   "display_name": "Python 3.9.5 ('base')",
   "language": "python",
   "name": "python3"
  },
  "language_info": {
   "codemirror_mode": {
    "name": "ipython",
    "version": 3
   },
   "file_extension": ".py",
   "mimetype": "text/x-python",
   "name": "python",
   "nbconvert_exporter": "python",
   "pygments_lexer": "ipython3",
   "version": "3.9.5"
  },
  "vscode": {
   "interpreter": {
    "hash": "9ed5c94d10bf621c6841991b7e31ffd0f3c8de8ec4167710459737a50edc58e4"
   }
  }
 },
 "nbformat": 4,
 "nbformat_minor": 5
}
