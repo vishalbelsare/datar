{
 "cells": [
  {
   "cell_type": "code",
   "execution_count": 2,
   "id": "5ddd5613",
   "metadata": {
    "execution": {
     "iopub.execute_input": "2021-07-16T22:27:45.939425Z",
     "iopub.status.busy": "2021-07-16T22:27:45.938609Z",
     "iopub.status.idle": "2021-07-16T22:27:46.866192Z",
     "shell.execute_reply": "2021-07-16T22:27:46.866581Z"
    }
   },
   "outputs": [
    {
     "data": {
      "text/html": [
       "<div style=\"text-align: right; text-style: italic\">Try this notebook on <a target=\"_blank\" href=\"https://mybinder.org/v2/gh/pwwang/datar/dev?filepath=docs%2Fnotebooks%2Fdatar.ipynb\">binder</a>.</div>"
      ],
      "text/plain": [
       "<IPython.core.display.HTML object>"
      ]
     },
     "metadata": {},
     "output_type": "display_data"
    },
    {
     "data": {
      "text/markdown": [
       "### <div style=\"background-color: #EEE; padding: 5px 0 8px 0\">★ itemgetter</div>"
      ],
      "text/plain": [
       "<IPython.core.display.Markdown object>"
      ]
     },
     "metadata": {},
     "output_type": "display_data"
    },
    {
     "data": {
      "text/markdown": [
       "##### Itemgetter as a function for verb\n",
       "\n",
       "In datar expression, we can do:  \n",
       ">>> arr = [1,2,3]  \n",
       ">>> tibble(x=2) >> mutate(y=arr[f.x])  \n",
       "\n",
       "Since `arr[f.x]` won't compile. We need to use the `itemgetter` operator:  \n",
       ">>> tibble(x=2) >> mutate(y=itemgetter(arr, f.x))  \n",
       "\n",
       "##### Args:\n",
       "&emsp;&emsp;`data`: The data to be get items from  \n",
       "&emsp;&emsp;`subscr`: The subscripts  \n"
      ],
      "text/plain": [
       "<IPython.core.display.Markdown object>"
      ]
     },
     "metadata": {},
     "output_type": "display_data"
    },
    {
     "data": {
      "text/markdown": [
       "### <div style=\"background-color: #EEE; padding: 5px 0 8px 0\">★ attrgetter</div>"
      ],
      "text/plain": [
       "<IPython.core.display.Markdown object>"
      ]
     },
     "metadata": {},
     "output_type": "display_data"
    },
    {
     "data": {
      "text/markdown": [
       "##### Attrgetter as a function for verb\n",
       "\n",
       "This is helpful when we want to access to an accessor  \n",
       "(ie. CategoricalAccessor) from a SeriesGroupBy object  \n"
      ],
      "text/plain": [
       "<IPython.core.display.Markdown object>"
      ]
     },
     "metadata": {},
     "output_type": "display_data"
    },
    {
     "data": {
      "text/markdown": [
       "### <div style=\"background-color: #EEE; padding: 5px 0 8px 0\">★ pd_str</div>"
      ],
      "text/plain": [
       "<IPython.core.display.Markdown object>"
      ]
     },
     "metadata": {},
     "output_type": "display_data"
    },
    {
     "data": {
      "text/markdown": [
       "##### Pandas' str accessor for a Series (x.str)\n",
       "\n",
       "This is helpful when x is a SeriesGroupBy object  \n"
      ],
      "text/plain": [
       "<IPython.core.display.Markdown object>"
      ]
     },
     "metadata": {},
     "output_type": "display_data"
    },
    {
     "data": {
      "text/markdown": [
       "### <div style=\"background-color: #EEE; padding: 5px 0 8px 0\">★ pd_cat</div>"
      ],
      "text/plain": [
       "<IPython.core.display.Markdown object>"
      ]
     },
     "metadata": {},
     "output_type": "display_data"
    },
    {
     "data": {
      "text/markdown": [
       "##### Pandas' cat accessor for a Series (x.cat)\n",
       "\n",
       "This is helpful when x is a SeriesGroupBy object  \n"
      ],
      "text/plain": [
       "<IPython.core.display.Markdown object>"
      ]
     },
     "metadata": {},
     "output_type": "display_data"
    },
    {
     "data": {
      "text/markdown": [
       "### <div style=\"background-color: #EEE; padding: 5px 0 8px 0\">★ pd_dt</div>"
      ],
      "text/plain": [
       "<IPython.core.display.Markdown object>"
      ]
     },
     "metadata": {},
     "output_type": "display_data"
    },
    {
     "data": {
      "text/markdown": [
       "##### Pandas' dt accessor for a Series (x.dt)\n",
       "\n",
       "This is helpful when x is a SeriesGroupBy object  \n"
      ],
      "text/plain": [
       "<IPython.core.display.Markdown object>"
      ]
     },
     "metadata": {},
     "output_type": "display_data"
    }
   ],
   "source": [
    "# datar specific\n",
    "\n",
    "import numpy\n",
    "from datar import f\n",
    "from datar.data import iris\n",
    "from datar.base import as_date, factor, c\n",
    "from datar.other import *\n",
    "from datar.dplyr import mutate, group_by\n",
    "from datar.tibble import tibble\n",
    "\n",
    "%run nb_helpers.py\n",
    "nb_header(\n",
    "    # get, \n",
    "    # flatten, \n",
    "    itemgetter, \n",
    "    attrgetter, \n",
    "    pd_str, \n",
    "    pd_cat, \n",
    "    pd_dt, \n",
    "    book='datar',\n",
    ")"
   ]
  },
  {
   "cell_type": "code",
   "execution_count": 3,
   "id": "079671c5",
   "metadata": {
    "execution": {
     "iopub.execute_input": "2021-07-16T22:27:46.871734Z",
     "iopub.status.busy": "2021-07-16T22:27:46.871143Z",
     "iopub.status.idle": "2021-07-16T22:27:46.903396Z",
     "shell.execute_reply": "2021-07-16T22:27:46.903926Z"
    }
   },
   "outputs": [],
   "source": [
    "# iris >> get(c[:5])"
   ]
  },
  {
   "cell_type": "code",
   "execution_count": 4,
   "id": "ee9b5bd7",
   "metadata": {
    "execution": {
     "iopub.execute_input": "2021-07-16T22:27:46.914499Z",
     "iopub.status.busy": "2021-07-16T22:27:46.913928Z",
     "iopub.status.idle": "2021-07-16T22:27:46.983390Z",
     "shell.execute_reply": "2021-07-16T22:27:46.984132Z"
    }
   },
   "outputs": [],
   "source": [
    "# iris >> get(cols=f.Species)"
   ]
  },
  {
   "cell_type": "code",
   "execution_count": 5,
   "id": "6a2638a7",
   "metadata": {
    "execution": {
     "iopub.execute_input": "2021-07-16T22:27:46.989720Z",
     "iopub.status.busy": "2021-07-16T22:27:46.989062Z",
     "iopub.status.idle": "2021-07-16T22:27:46.992070Z",
     "shell.execute_reply": "2021-07-16T22:27:46.992928Z"
    }
   },
   "outputs": [],
   "source": [
    "# select single element\n",
    "# iris >> get(1, f.Species)"
   ]
  },
  {
   "cell_type": "code",
   "execution_count": 6,
   "id": "0b9835c1",
   "metadata": {
    "execution": {
     "iopub.execute_input": "2021-07-16T22:27:47.002937Z",
     "iopub.status.busy": "2021-07-16T22:27:47.002274Z",
     "iopub.status.idle": "2021-07-16T22:27:47.005992Z",
     "shell.execute_reply": "2021-07-16T22:27:47.005544Z"
    }
   },
   "outputs": [],
   "source": [
    "# get it as a single-element dataframe\n",
    "# iris >> get([1], f.Species)"
   ]
  },
  {
   "cell_type": "code",
   "execution_count": 7,
   "id": "dceca6e4",
   "metadata": {
    "execution": {
     "iopub.execute_input": "2021-07-16T22:27:47.016728Z",
     "iopub.status.busy": "2021-07-16T22:27:47.016117Z",
     "iopub.status.idle": "2021-07-16T22:27:47.019537Z",
     "shell.execute_reply": "2021-07-16T22:27:47.019077Z"
    }
   },
   "outputs": [],
   "source": [
    "# or \n",
    "# iris >> get(1, [f.Species])"
   ]
  },
  {
   "cell_type": "code",
   "execution_count": 8,
   "id": "62ed1ae9",
   "metadata": {
    "execution": {
     "iopub.execute_input": "2021-07-16T22:27:47.024658Z",
     "iopub.status.busy": "2021-07-16T22:27:47.024080Z",
     "iopub.status.idle": "2021-07-16T22:27:47.136793Z",
     "shell.execute_reply": "2021-07-16T22:27:47.137236Z"
    }
   },
   "outputs": [],
   "source": [
    "df = tibble(x=c[1:3], y=c[3:5])\n",
    "# df >> flatten()"
   ]
  },
  {
   "cell_type": "code",
   "execution_count": 12,
   "id": "94649970",
   "metadata": {
    "execution": {
     "iopub.execute_input": "2021-07-16T22:27:47.154788Z",
     "iopub.status.busy": "2021-07-16T22:27:47.154185Z",
     "iopub.status.idle": "2021-07-16T22:27:47.179272Z",
     "shell.execute_reply": "2021-07-16T22:27:47.179691Z"
    }
   },
   "outputs": [
    {
     "data": {
      "text/html": [
       "<div>\n",
       "<style scoped>\n",
       "    .dataframe tbody tr th:only-of-type {\n",
       "        vertical-align: middle;\n",
       "    }\n",
       "\n",
       "    .dataframe tbody tr th {\n",
       "        vertical-align: top;\n",
       "    }\n",
       "\n",
       "    .dataframe thead th {\n",
       "        text-align: right;\n",
       "    }\n",
       "</style>\n",
       "<table border=\"1\" class=\"dataframe\">\n",
       "  <thead>\n",
       "    <tr style=\"text-align: right;\">\n",
       "      <th></th>\n",
       "      <th>x</th>\n",
       "      <th>y</th>\n",
       "      <th>a</th>\n",
       "      <th>b</th>\n",
       "    </tr>\n",
       "  </thead>\n",
       "  <tbody>\n",
       "    <tr>\n",
       "      <th style=\"font-style: italic;\" ></th>\n",
       "      <td style=\"font-style: italic;\" >&lt;int64&gt;</td>\n",
       "      <td style=\"font-style: italic;\" >&lt;int64&gt;</td>\n",
       "      <td style=\"font-style: italic;\" >&lt;object&gt;</td>\n",
       "      <td style=\"font-style: italic;\" >&lt;object&gt;</td>\n",
       "    </tr>\n",
       "    <tr>\n",
       "      <th>0</th>\n",
       "      <td>1</td>\n",
       "      <td>3</td>\n",
       "      <td>b</td>\n",
       "      <td>d</td>\n",
       "    </tr>\n",
       "    <tr>\n",
       "      <th>1</th>\n",
       "      <td>2</td>\n",
       "      <td>4</td>\n",
       "      <td>c</td>\n",
       "      <td>e</td>\n",
       "    </tr>\n",
       "  </tbody>\n",
       "</table>\n",
       "</div>\n"
      ],
      "text/plain": [
       "        x       y        a        b\n",
       "  <int64> <int64> <object> <object>\n",
       "0       1       3        b        d\n",
       "1       2       4        c        e"
      ]
     },
     "execution_count": 12,
     "metadata": {},
     "output_type": "execute_result"
    }
   ],
   "source": [
    "arr = numpy.array(['a', 'b', 'c', 'd', 'e'])\n",
    "# df >> mutate(a=arr[f.x], b=arr[f.y])  # Error\n",
    "df >> mutate(a=itemgetter(arr, f.x.values), b=itemgetter(arr, f.y.values))"
   ]
  },
  {
   "cell_type": "code",
   "execution_count": 13,
   "id": "8056429c",
   "metadata": {},
   "outputs": [
    {
     "data": {
      "text/html": [
       "<div>\n",
       "<style scoped>\n",
       "    .dataframe tbody tr th:only-of-type {\n",
       "        vertical-align: middle;\n",
       "    }\n",
       "\n",
       "    .dataframe tbody tr th {\n",
       "        vertical-align: top;\n",
       "    }\n",
       "\n",
       "    .dataframe thead th {\n",
       "        text-align: right;\n",
       "    }\n",
       "</style>\n",
       "<table border=\"1\" class=\"dataframe\">\n",
       "  <thead>\n",
       "    <tr style=\"text-align: right;\">\n",
       "      <th></th>\n",
       "      <th>x</th>\n",
       "      <th>a</th>\n",
       "    </tr>\n",
       "  </thead>\n",
       "  <tbody>\n",
       "    <tr>\n",
       "      <th style=\"font-style: italic;\" ></th>\n",
       "      <td style=\"font-style: italic;\" >&lt;object&gt;</td>\n",
       "      <td style=\"font-style: italic;\" >&lt;object&gt;</td>\n",
       "    </tr>\n",
       "    <tr>\n",
       "      <th>0</th>\n",
       "      <td>abc</td>\n",
       "      <td>ABC</td>\n",
       "    </tr>\n",
       "    <tr>\n",
       "      <th>1</th>\n",
       "      <td>def</td>\n",
       "      <td>DEF</td>\n",
       "    </tr>\n",
       "  </tbody>\n",
       "</table>\n",
       "</div>\n"
      ],
      "text/plain": [
       "         x        a\n",
       "  <object> <object>\n",
       "0      abc      ABC\n",
       "1      def      DEF"
      ]
     },
     "execution_count": 13,
     "metadata": {},
     "output_type": "execute_result"
    }
   ],
   "source": [
    "df = tibble(x=[\"abc\", \"def\"])\n",
    "df >> mutate(a=attrgetter(f.x, 'str').upper())"
   ]
  },
  {
   "cell_type": "code",
   "execution_count": 14,
   "id": "9b1726ad",
   "metadata": {},
   "outputs": [
    {
     "data": {
      "text/html": [
       "<div>\n",
       "<style scoped>\n",
       "    .dataframe tbody tr th:only-of-type {\n",
       "        vertical-align: middle;\n",
       "    }\n",
       "\n",
       "    .dataframe tbody tr th {\n",
       "        vertical-align: top;\n",
       "    }\n",
       "\n",
       "    .dataframe thead th {\n",
       "        text-align: right;\n",
       "    }\n",
       "</style>\n",
       "<table border=\"1\" class=\"dataframe\">\n",
       "  <thead>\n",
       "    <tr style=\"text-align: right;\">\n",
       "      <th></th>\n",
       "      <th>x</th>\n",
       "      <th>a</th>\n",
       "    </tr>\n",
       "  </thead>\n",
       "  <tbody>\n",
       "    <tr>\n",
       "      <th style=\"font-style: italic;\" ></th>\n",
       "      <td style=\"font-style: italic;\" >&lt;object&gt;</td>\n",
       "      <td style=\"font-style: italic;\" >&lt;object&gt;</td>\n",
       "    </tr>\n",
       "    <tr>\n",
       "      <th>0</th>\n",
       "      <td>abc</td>\n",
       "      <td>ABC</td>\n",
       "    </tr>\n",
       "    <tr>\n",
       "      <th>1</th>\n",
       "      <td>def</td>\n",
       "      <td>DEF</td>\n",
       "    </tr>\n",
       "  </tbody>\n",
       "</table>\n",
       "</div>\n"
      ],
      "text/plain": [
       "         x        a\n",
       "  <object> <object>\n",
       "0      abc      ABC\n",
       "1      def      DEF"
      ]
     },
     "execution_count": 14,
     "metadata": {},
     "output_type": "execute_result"
    }
   ],
   "source": [
    "# or\n",
    "# df >> mutate(a=pd_str(f.x).upper())\n",
    "# or\n",
    "df >> mutate(a=f.x.str.upper())"
   ]
  },
  {
   "cell_type": "code",
   "execution_count": 15,
   "id": "05d65cc8",
   "metadata": {},
   "outputs": [
    {
     "data": {
      "text/html": [
       "<div>\n",
       "<style scoped>\n",
       "    .dataframe tbody tr th:only-of-type {\n",
       "        vertical-align: middle;\n",
       "    }\n",
       "\n",
       "    .dataframe tbody tr th {\n",
       "        vertical-align: top;\n",
       "    }\n",
       "\n",
       "    .dataframe thead th {\n",
       "        text-align: right;\n",
       "    }\n",
       "</style>\n",
       "<table border=\"1\" class=\"dataframe\">\n",
       "  <thead>\n",
       "    <tr style=\"text-align: right;\">\n",
       "      <th></th>\n",
       "      <th>x</th>\n",
       "      <th>g</th>\n",
       "      <th>a</th>\n",
       "    </tr>\n",
       "  </thead>\n",
       "  <tbody>\n",
       "    <tr>\n",
       "      <th style=\"font-style: italic;\" ></th>\n",
       "      <td style=\"font-style: italic;\" >&lt;object&gt;</td>\n",
       "      <td style=\"font-style: italic;\" >&lt;int64&gt;</td>\n",
       "      <td style=\"font-style: italic;\" >&lt;object&gt;</td>\n",
       "    </tr>\n",
       "    <tr>\n",
       "      <th>0</th>\n",
       "      <td>abc</td>\n",
       "      <td>1</td>\n",
       "      <td>ab</td>\n",
       "    </tr>\n",
       "    <tr>\n",
       "      <th>1</th>\n",
       "      <td>def</td>\n",
       "      <td>2</td>\n",
       "      <td>de</td>\n",
       "    </tr>\n",
       "  </tbody>\n",
       "</table>\n",
       "</div>\n",
       "<p>TibbleGrouped: g (n=2)"
      ],
      "text/plain": [
       "         x       g        a\n",
       "  <object> <int64> <object>\n",
       "0      abc       1       ab\n",
       "1      def       2       de\n",
       "[TibbleGrouped: g (n=2)]"
      ]
     },
     "execution_count": 15,
     "metadata": {},
     "output_type": "execute_result"
    }
   ],
   "source": [
    "# but when df is grouped\n",
    "gf = df >> group_by(g=[1, 2])\n",
    "# pd_str(gf.x)[:2].obj\n",
    "gf >> mutate(a=pd_str(gf.x)[:2])"
   ]
  },
  {
   "cell_type": "code",
   "execution_count": 16,
   "id": "081a9d1e",
   "metadata": {},
   "outputs": [
    {
     "data": {
      "text/html": [
       "<div>\n",
       "<style scoped>\n",
       "    .dataframe tbody tr th:only-of-type {\n",
       "        vertical-align: middle;\n",
       "    }\n",
       "\n",
       "    .dataframe tbody tr th {\n",
       "        vertical-align: top;\n",
       "    }\n",
       "\n",
       "    .dataframe thead th {\n",
       "        text-align: right;\n",
       "    }\n",
       "</style>\n",
       "<table border=\"1\" class=\"dataframe\">\n",
       "  <thead>\n",
       "    <tr style=\"text-align: right;\">\n",
       "      <th></th>\n",
       "      <th>x</th>\n",
       "      <th>g</th>\n",
       "      <th>month</th>\n",
       "    </tr>\n",
       "  </thead>\n",
       "  <tbody>\n",
       "    <tr>\n",
       "      <th style=\"font-style: italic;\" ></th>\n",
       "      <td style=\"font-style: italic;\" >&lt;datetime64[ns]&gt;</td>\n",
       "      <td style=\"font-style: italic;\" >&lt;int64&gt;</td>\n",
       "      <td style=\"font-style: italic;\" >&lt;int64&gt;</td>\n",
       "    </tr>\n",
       "    <tr>\n",
       "      <th>0</th>\n",
       "      <td>2022-01-01</td>\n",
       "      <td>1</td>\n",
       "      <td>1</td>\n",
       "    </tr>\n",
       "    <tr>\n",
       "      <th>1</th>\n",
       "      <td>2022-12-02</td>\n",
       "      <td>2</td>\n",
       "      <td>12</td>\n",
       "    </tr>\n",
       "  </tbody>\n",
       "</table>\n",
       "</div>\n",
       "<p>TibbleGrouped: g (n=2)"
      ],
      "text/plain": [
       "                 x       g   month\n",
       "  <datetime64[ns]> <int64> <int64>\n",
       "0       2022-01-01       1       1\n",
       "1       2022-12-02       2      12\n",
       "[TibbleGrouped: g (n=2)]"
      ]
     },
     "execution_count": 16,
     "metadata": {},
     "output_type": "execute_result"
    }
   ],
   "source": [
    "gf = (\n",
    "    tibble(x=[\"2022-01-01\", \"2022-12-02\"])\n",
    "    >> mutate(x=as_date(f.x, format=\"%Y-%m-%d\"))\n",
    "    >> group_by(g=[1, 2])\n",
    ")\n",
    "gf >> mutate(month=pd_dt(gf.x).month)"
   ]
  },
  {
   "cell_type": "code",
   "execution_count": 17,
   "id": "b2aaa7f0",
   "metadata": {},
   "outputs": [
    {
     "data": {
      "text/html": [
       "<div>\n",
       "<style scoped>\n",
       "    .dataframe tbody tr th:only-of-type {\n",
       "        vertical-align: middle;\n",
       "    }\n",
       "\n",
       "    .dataframe tbody tr th {\n",
       "        vertical-align: top;\n",
       "    }\n",
       "\n",
       "    .dataframe thead th {\n",
       "        text-align: right;\n",
       "    }\n",
       "</style>\n",
       "<table border=\"1\" class=\"dataframe\">\n",
       "  <thead>\n",
       "    <tr style=\"text-align: right;\">\n",
       "      <th></th>\n",
       "      <th>x</th>\n",
       "      <th>g</th>\n",
       "      <th>codes</th>\n",
       "    </tr>\n",
       "  </thead>\n",
       "  <tbody>\n",
       "    <tr>\n",
       "      <th style=\"font-style: italic;\" ></th>\n",
       "      <td style=\"font-style: italic;\" >&lt;category&gt;</td>\n",
       "      <td style=\"font-style: italic;\" >&lt;int64&gt;</td>\n",
       "      <td style=\"font-style: italic;\" >&lt;int8&gt;</td>\n",
       "    </tr>\n",
       "    <tr>\n",
       "      <th>0</th>\n",
       "      <td>1</td>\n",
       "      <td>1</td>\n",
       "      <td>0</td>\n",
       "    </tr>\n",
       "    <tr>\n",
       "      <th>1</th>\n",
       "      <td>2</td>\n",
       "      <td>2</td>\n",
       "      <td>1</td>\n",
       "    </tr>\n",
       "  </tbody>\n",
       "</table>\n",
       "</div>\n",
       "<p>TibbleGrouped: g (n=2)"
      ],
      "text/plain": [
       "           x       g  codes\n",
       "  <category> <int64> <int8>\n",
       "0          1       1      0\n",
       "1          2       2      1\n",
       "[TibbleGrouped: g (n=2)]"
      ]
     },
     "execution_count": 17,
     "metadata": {},
     "output_type": "execute_result"
    }
   ],
   "source": [
    "gf = (\n",
    "    tibble(x=factor([1, 2], levels=[1, 2, 3]))\n",
    "    >> group_by(g=[1, 2])\n",
    ")\n",
    "gf >> mutate(codes=pd_cat(gf.x).codes)"
   ]
  }
 ],
 "metadata": {
  "kernelspec": {
   "display_name": "Python 3.9.5 ('base')",
   "language": "python",
   "name": "python3"
  },
  "language_info": {
   "codemirror_mode": {
    "name": "ipython",
    "version": 3
   },
   "file_extension": ".py",
   "mimetype": "text/x-python",
   "name": "python",
   "nbconvert_exporter": "python",
   "pygments_lexer": "ipython3",
   "version": "3.9.5"
  },
  "vscode": {
   "interpreter": {
    "hash": "9ed5c94d10bf621c6841991b7e31ffd0f3c8de8ec4167710459737a50edc58e4"
   }
  }
 },
 "nbformat": 4,
 "nbformat_minor": 5
}
