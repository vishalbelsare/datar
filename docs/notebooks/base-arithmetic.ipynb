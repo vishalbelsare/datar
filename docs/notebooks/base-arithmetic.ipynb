{
 "cells": [
  {
   "cell_type": "code",
   "execution_count": 1,
   "metadata": {},
   "outputs": [
    {
     "data": {
      "text/html": [
       "<div style=\"text-align: right; text-style: italic\">Try this notebook on <a target=\"_blank\" href=\"https://mybinder.org/v2/gh/pwwang/datar/dev?filepath=docs%2Fnotebooks%2Fsum_.ipynb\">binder</a>.</div>"
      ],
      "text/plain": [
       "<IPython.core.display.HTML object>"
      ]
     },
     "metadata": {},
     "output_type": "display_data"
    },
    {
     "data": {
      "text/markdown": [
       "### <div style=\"background-color: #EEE; padding: 5px 0 8px 0\">★ sum_</div>"
      ],
      "text/plain": [
       "<IPython.core.display.Markdown object>"
      ]
     },
     "metadata": {},
     "output_type": "display_data"
    },
    {
     "data": {
      "text/markdown": [
       "##### Compute the sum of a vector\n",
       "\n",
       "##### Args:\n",
       "&emsp;&emsp;`x`: A numeric vector  \n",
       "&emsp;&emsp;`na_rm`: Whether to remove `NA` values  \n",
       "\n",
       "##### Returns:\n",
       "&emsp;&emsp;The sum of the vector  \n"
      ],
      "text/plain": [
       "<IPython.core.display.Markdown object>"
      ]
     },
     "metadata": {},
     "output_type": "display_data"
    },
    {
     "data": {
      "text/markdown": [
       "### <div style=\"background-color: #EEE; padding: 5px 0 8px 0\">★ prod</div>"
      ],
      "text/plain": [
       "<IPython.core.display.Markdown object>"
      ]
     },
     "metadata": {},
     "output_type": "display_data"
    },
    {
     "data": {
      "text/markdown": [
       "##### Compute the product of a vector\n",
       "\n",
       "##### Args:\n",
       "&emsp;&emsp;`x`: A numeric vector  \n",
       "&emsp;&emsp;`na_rm`: Whether to remove `NA` values  \n",
       "\n",
       "##### Returns:\n",
       "&emsp;&emsp;The product of the vector  \n"
      ],
      "text/plain": [
       "<IPython.core.display.Markdown object>"
      ]
     },
     "metadata": {},
     "output_type": "display_data"
    },
    {
     "data": {
      "text/markdown": [
       "### <div style=\"background-color: #EEE; padding: 5px 0 8px 0\">★ mean</div>"
      ],
      "text/plain": [
       "<IPython.core.display.Markdown object>"
      ]
     },
     "metadata": {},
     "output_type": "display_data"
    },
    {
     "data": {
      "text/markdown": [
       "##### Compute the mean of a vector\n",
       "\n",
       "##### Args:\n",
       "&emsp;&emsp;`x`: A numeric vector  \n",
       "&emsp;&emsp;`na_rm`: Whether to remove `NA` values  \n",
       "\n",
       "##### Returns:\n",
       "&emsp;&emsp;The mean of the vector  \n"
      ],
      "text/plain": [
       "<IPython.core.display.Markdown object>"
      ]
     },
     "metadata": {},
     "output_type": "display_data"
    },
    {
     "data": {
      "text/markdown": [
       "### <div style=\"background-color: #EEE; padding: 5px 0 8px 0\">★ median</div>"
      ],
      "text/plain": [
       "<IPython.core.display.Markdown object>"
      ]
     },
     "metadata": {},
     "output_type": "display_data"
    },
    {
     "data": {
      "text/markdown": [
       "##### Compute the median of a vector\n",
       "\n",
       "##### Args:\n",
       "&emsp;&emsp;`x`: A numeric vector  \n",
       "&emsp;&emsp;`na_rm`: Whether to remove `NA` values  \n",
       "\n",
       "##### Returns:\n",
       "&emsp;&emsp;The median of the vector  \n"
      ],
      "text/plain": [
       "<IPython.core.display.Markdown object>"
      ]
     },
     "metadata": {},
     "output_type": "display_data"
    },
    {
     "data": {
      "text/markdown": [
       "### <div style=\"background-color: #EEE; padding: 5px 0 8px 0\">★ min_</div>"
      ],
      "text/plain": [
       "<IPython.core.display.Markdown object>"
      ]
     },
     "metadata": {},
     "output_type": "display_data"
    },
    {
     "data": {
      "text/markdown": [
       "##### Compute the minimum of a vector\n",
       "\n",
       "##### Args:\n",
       "&emsp;&emsp;`x`: A numeric vector  \n",
       "&emsp;&emsp;`na_rm`: Whether to remove `NA` values  \n",
       "\n",
       "##### Returns:\n",
       "&emsp;&emsp;The minimum of the vector  \n"
      ],
      "text/plain": [
       "<IPython.core.display.Markdown object>"
      ]
     },
     "metadata": {},
     "output_type": "display_data"
    },
    {
     "data": {
      "text/markdown": [
       "### <div style=\"background-color: #EEE; padding: 5px 0 8px 0\">★ max_</div>"
      ],
      "text/plain": [
       "<IPython.core.display.Markdown object>"
      ]
     },
     "metadata": {},
     "output_type": "display_data"
    },
    {
     "data": {
      "text/markdown": [
       "##### Compute the maximum of a vector\n",
       "\n",
       "##### Args:\n",
       "&emsp;&emsp;`x`: A numeric vector  \n",
       "&emsp;&emsp;`na_rm`: Whether to remove `NA` values  \n",
       "\n",
       "##### Returns:\n",
       "&emsp;&emsp;The maximum of the vector  \n"
      ],
      "text/plain": [
       "<IPython.core.display.Markdown object>"
      ]
     },
     "metadata": {},
     "output_type": "display_data"
    },
    {
     "data": {
      "text/markdown": [
       "### <div style=\"background-color: #EEE; padding: 5px 0 8px 0\">★ var</div>"
      ],
      "text/plain": [
       "<IPython.core.display.Markdown object>"
      ]
     },
     "metadata": {},
     "output_type": "display_data"
    },
    {
     "data": {
      "text/markdown": [
       "##### Compute the variance of a vector\n",
       "\n",
       "##### Args:\n",
       "&emsp;&emsp;`x`: A numeric vector  \n",
       "&emsp;&emsp;`y`: None or a vector, matrix or data frame with  \n",
       "&emsp;&emsp;&emsp;&emsp;compatible dimensions to `x`.  The default is equivalent to  \n",
       "&emsp;&emsp;&emsp;&emsp;`y = x`  \n",
       "\n",
       "&emsp;&emsp;`na_rm`: Whether to remove `NA` values  \n",
       "&emsp;&emsp;`ddof`: The degrees of freedom  \n",
       "\n",
       "##### Returns:\n",
       "&emsp;&emsp;The variance of the vector  \n"
      ],
      "text/plain": [
       "<IPython.core.display.Markdown object>"
      ]
     },
     "metadata": {},
     "output_type": "display_data"
    },
    {
     "data": {
      "text/markdown": [
       "### <div style=\"background-color: #EEE; padding: 5px 0 8px 0\">★ pmin</div>"
      ],
      "text/plain": [
       "<IPython.core.display.Markdown object>"
      ]
     },
     "metadata": {},
     "output_type": "display_data"
    },
    {
     "data": {
      "text/markdown": [
       "##### Returns the (regular or Parallel) maxima and minima of the input\n",
       "&emsp;&emsp;values.  \n",
       "\n",
       "##### Args:\n",
       "&emsp;&emsp;`x`: A numeric vector  \n",
       "&emsp;&emsp;`more`: One or more values  \n",
       "&emsp;&emsp;`na_rm`: Whether to remove `NA` values  \n",
       "\n",
       "##### Returns:\n",
       "&emsp;&emsp;The minimum of the vector and the values  \n"
      ],
      "text/plain": [
       "<IPython.core.display.Markdown object>"
      ]
     },
     "metadata": {},
     "output_type": "display_data"
    },
    {
     "data": {
      "text/markdown": [
       "### <div style=\"background-color: #EEE; padding: 5px 0 8px 0\">★ pmax</div>"
      ],
      "text/plain": [
       "<IPython.core.display.Markdown object>"
      ]
     },
     "metadata": {},
     "output_type": "display_data"
    },
    {
     "data": {
      "text/markdown": [
       "##### Returns the (regular or Parallel) maxima and minima of the input\n",
       "&emsp;&emsp;values.  \n",
       "\n",
       "##### Args:\n",
       "&emsp;&emsp;`x`: A numeric vector  \n",
       "&emsp;&emsp;`more`: One or more values  \n",
       "&emsp;&emsp;`na_rm`: Whether to remove `NA` values  \n",
       "\n",
       "##### Returns:\n",
       "&emsp;&emsp;The maximum of the vector and the values  \n"
      ],
      "text/plain": [
       "<IPython.core.display.Markdown object>"
      ]
     },
     "metadata": {},
     "output_type": "display_data"
    },
    {
     "data": {
      "text/markdown": [
       "### <div style=\"background-color: #EEE; padding: 5px 0 8px 0\">★ round_</div>"
      ],
      "text/plain": [
       "<IPython.core.display.Markdown object>"
      ]
     },
     "metadata": {},
     "output_type": "display_data"
    },
    {
     "data": {
      "text/markdown": [
       "##### Round the values of a vector\n",
       "\n",
       "##### Args:\n",
       "&emsp;&emsp;`x`: A numeric vector  \n",
       "&emsp;&emsp;`digits`: The number of digits to round to  \n",
       "\n",
       "##### Returns:\n",
       "&emsp;&emsp;The rounded values  \n"
      ],
      "text/plain": [
       "<IPython.core.display.Markdown object>"
      ]
     },
     "metadata": {},
     "output_type": "display_data"
    },
    {
     "data": {
      "text/markdown": [
       "### <div style=\"background-color: #EEE; padding: 5px 0 8px 0\">★ sqrt</div>"
      ],
      "text/plain": [
       "<IPython.core.display.Markdown object>"
      ]
     },
     "metadata": {},
     "output_type": "display_data"
    },
    {
     "data": {
      "text/markdown": [
       "##### Compute the square root of a vector\n",
       "\n",
       "##### Args:\n",
       "&emsp;&emsp;`x`: A numeric vector  \n",
       "\n",
       "##### Returns:\n",
       "&emsp;&emsp;The square root of the vector  \n"
      ],
      "text/plain": [
       "<IPython.core.display.Markdown object>"
      ]
     },
     "metadata": {},
     "output_type": "display_data"
    },
    {
     "data": {
      "text/markdown": [
       "### <div style=\"background-color: #EEE; padding: 5px 0 8px 0\">★ abs_</div>"
      ],
      "text/plain": [
       "<IPython.core.display.Markdown object>"
      ]
     },
     "metadata": {},
     "output_type": "display_data"
    },
    {
     "data": {
      "text/markdown": [
       "##### Compute the absolute value of a vector\n",
       "\n",
       "##### Args:\n",
       "&emsp;&emsp;`x`: A numeric vector  \n",
       "\n",
       "##### Returns:\n",
       "&emsp;&emsp;The absolute values of the vector  \n"
      ],
      "text/plain": [
       "<IPython.core.display.Markdown object>"
      ]
     },
     "metadata": {},
     "output_type": "display_data"
    },
    {
     "data": {
      "text/markdown": [
       "### <div style=\"background-color: #EEE; padding: 5px 0 8px 0\">★ sign</div>"
      ],
      "text/plain": [
       "<IPython.core.display.Markdown object>"
      ]
     },
     "metadata": {},
     "output_type": "display_data"
    },
    {
     "data": {
      "text/markdown": [
       "##### Compute the sign of a vector\n",
       "\n",
       "##### Args:\n",
       "&emsp;&emsp;`x`: A numeric vector  \n",
       "\n",
       "##### Returns:\n",
       "&emsp;&emsp;The signs of the vector  \n"
      ],
      "text/plain": [
       "<IPython.core.display.Markdown object>"
      ]
     },
     "metadata": {},
     "output_type": "display_data"
    },
    {
     "data": {
      "text/markdown": [
       "### <div style=\"background-color: #EEE; padding: 5px 0 8px 0\">★ trunc</div>"
      ],
      "text/plain": [
       "<IPython.core.display.Markdown object>"
      ]
     },
     "metadata": {},
     "output_type": "display_data"
    },
    {
     "data": {
      "text/markdown": [
       "##### Truncate the values of a vector\n",
       "\n",
       "##### Args:\n",
       "&emsp;&emsp;`x`: A numeric vector  \n",
       "\n",
       "##### Returns:\n",
       "&emsp;&emsp;The truncated values  \n"
      ],
      "text/plain": [
       "<IPython.core.display.Markdown object>"
      ]
     },
     "metadata": {},
     "output_type": "display_data"
    },
    {
     "data": {
      "text/markdown": [
       "### <div style=\"background-color: #EEE; padding: 5px 0 8px 0\">★ ceiling</div>"
      ],
      "text/plain": [
       "<IPython.core.display.Markdown object>"
      ]
     },
     "metadata": {},
     "output_type": "display_data"
    },
    {
     "data": {
      "text/markdown": [
       "##### Round up to the nearest integer\n",
       "\n",
       "##### Args:\n",
       "&emsp;&emsp;`x`: The value to be rounded up  \n",
       "\n",
       "##### Returns:\n",
       "&emsp;&emsp;The rounded up value  \n"
      ],
      "text/plain": [
       "<IPython.core.display.Markdown object>"
      ]
     },
     "metadata": {},
     "output_type": "display_data"
    },
    {
     "data": {
      "text/markdown": [
       "### <div style=\"background-color: #EEE; padding: 5px 0 8px 0\">★ floor</div>"
      ],
      "text/plain": [
       "<IPython.core.display.Markdown object>"
      ]
     },
     "metadata": {},
     "output_type": "display_data"
    },
    {
     "data": {
      "text/markdown": [
       "##### Round down to the nearest integer\n",
       "\n",
       "##### Args:\n",
       "&emsp;&emsp;`x`: The value to be rounded down  \n",
       "\n",
       "##### Returns:\n",
       "&emsp;&emsp;The rounded down value  \n"
      ],
      "text/plain": [
       "<IPython.core.display.Markdown object>"
      ]
     },
     "metadata": {},
     "output_type": "display_data"
    },
    {
     "data": {
      "text/markdown": [
       "### <div style=\"background-color: #EEE; padding: 5px 0 8px 0\">★ signif</div>"
      ],
      "text/plain": [
       "<IPython.core.display.Markdown object>"
      ]
     },
     "metadata": {},
     "output_type": "display_data"
    },
    {
     "data": {
      "text/markdown": [
       "##### Round the values of a vector to a given number of significant digits\n",
       "\n",
       "##### Args:\n",
       "&emsp;&emsp;`x`: A numeric vector  \n",
       "&emsp;&emsp;`digits`: The number of significant digits to round to  \n",
       "\n",
       "##### Returns:\n",
       "&emsp;&emsp;The rounded values  \n"
      ],
      "text/plain": [
       "<IPython.core.display.Markdown object>"
      ]
     },
     "metadata": {},
     "output_type": "display_data"
    },
    {
     "data": {
      "text/markdown": [
       "### <div style=\"background-color: #EEE; padding: 5px 0 8px 0\">★ log</div>"
      ],
      "text/plain": [
       "<IPython.core.display.Markdown object>"
      ]
     },
     "metadata": {},
     "output_type": "display_data"
    },
    {
     "data": {
      "text/markdown": [
       "##### Compute the logarithm of a vector\n",
       "\n",
       "##### Args:\n",
       "&emsp;&emsp;`x`: A numeric vector  \n",
       "&emsp;&emsp;`base`: The base of the logarithm  \n",
       "\n",
       "##### Returns:\n",
       "&emsp;&emsp;The logarithm values  \n"
      ],
      "text/plain": [
       "<IPython.core.display.Markdown object>"
      ]
     },
     "metadata": {},
     "output_type": "display_data"
    },
    {
     "data": {
      "text/markdown": [
       "### <div style=\"background-color: #EEE; padding: 5px 0 8px 0\">★ exp</div>"
      ],
      "text/plain": [
       "<IPython.core.display.Markdown object>"
      ]
     },
     "metadata": {},
     "output_type": "display_data"
    },
    {
     "data": {
      "text/markdown": [
       "##### Compute the exponential of a vector\n",
       "\n",
       "##### Args:\n",
       "&emsp;&emsp;`x`: A numeric vector  \n",
       "\n",
       "##### Returns:\n",
       "&emsp;&emsp;The exponential values  \n"
      ],
      "text/plain": [
       "<IPython.core.display.Markdown object>"
      ]
     },
     "metadata": {},
     "output_type": "display_data"
    },
    {
     "data": {
      "text/markdown": [
       "### <div style=\"background-color: #EEE; padding: 5px 0 8px 0\">★ log2</div>"
      ],
      "text/plain": [
       "<IPython.core.display.Markdown object>"
      ]
     },
     "metadata": {},
     "output_type": "display_data"
    },
    {
     "data": {
      "text/markdown": [
       "##### Compute the base-2 logarithm of a vector\n",
       "\n",
       "##### Args:\n",
       "&emsp;&emsp;`x`: A numeric vector  \n",
       "\n",
       "##### Returns:\n",
       "&emsp;&emsp;The logarithm values  \n"
      ],
      "text/plain": [
       "<IPython.core.display.Markdown object>"
      ]
     },
     "metadata": {},
     "output_type": "display_data"
    },
    {
     "data": {
      "text/markdown": [
       "### <div style=\"background-color: #EEE; padding: 5px 0 8px 0\">★ log10</div>"
      ],
      "text/plain": [
       "<IPython.core.display.Markdown object>"
      ]
     },
     "metadata": {},
     "output_type": "display_data"
    },
    {
     "data": {
      "text/markdown": [
       "##### Compute the base 10 logarithm of a vector\n",
       "\n",
       "##### Args:\n",
       "&emsp;&emsp;`x`: A numeric vector  \n",
       "\n",
       "##### Returns:\n",
       "&emsp;&emsp;The logarithm values  \n"
      ],
      "text/plain": [
       "<IPython.core.display.Markdown object>"
      ]
     },
     "metadata": {},
     "output_type": "display_data"
    },
    {
     "data": {
      "text/markdown": [
       "### <div style=\"background-color: #EEE; padding: 5px 0 8px 0\">★ log1p</div>"
      ],
      "text/plain": [
       "<IPython.core.display.Markdown object>"
      ]
     },
     "metadata": {},
     "output_type": "display_data"
    },
    {
     "data": {
      "text/markdown": [
       "##### Compute the logarithm of one plus a vector\n",
       "\n",
       "##### Args:\n",
       "&emsp;&emsp;`x`: A numeric vector  \n",
       "\n",
       "##### Returns:\n",
       "&emsp;&emsp;The logarithm values  \n"
      ],
      "text/plain": [
       "<IPython.core.display.Markdown object>"
      ]
     },
     "metadata": {},
     "output_type": "display_data"
    },
    {
     "data": {
      "text/markdown": [
       "### <div style=\"background-color: #EEE; padding: 5px 0 8px 0\">★ cov</div>"
      ],
      "text/plain": [
       "<IPython.core.display.Markdown object>"
      ]
     },
     "metadata": {},
     "output_type": "display_data"
    },
    {
     "data": {
      "text/markdown": [
       "##### Compute pairwise covariance between two variables\n",
       "\n",
       "##### Args:\n",
       "&emsp;&emsp;`x`: a numeric vector, matrix or data frame.  \n",
       "&emsp;&emsp;`y`: None or a vector, matrix or data frame with  \n",
       "&emsp;&emsp;&emsp;&emsp;compatible dimensions to `x`.  The default is equivalent to  \n",
       "&emsp;&emsp;&emsp;&emsp;`y = x`  \n",
       "\n",
       "&emsp;&emsp;`na_rm`: If `True`, remove missing values before computing  \n",
       "&emsp;&emsp;&emsp;&emsp;the covariance.  \n",
       "\n",
       "&emsp;&emsp;`ddof`: The denominator degrees of freedom.  \n",
       "\n",
       "##### Returns:\n",
       "&emsp;&emsp;The covariance matrix  \n"
      ],
      "text/plain": [
       "<IPython.core.display.Markdown object>"
      ]
     },
     "metadata": {},
     "output_type": "display_data"
    },
    {
     "data": {
      "text/markdown": [
       "### <div style=\"background-color: #EEE; padding: 5px 0 8px 0\">★ scale</div>"
      ],
      "text/plain": [
       "<IPython.core.display.Markdown object>"
      ]
     },
     "metadata": {},
     "output_type": "display_data"
    },
    {
     "data": {
      "text/markdown": [
       "##### Center and/or scale the data\n",
       "\n",
       "##### Args:\n",
       "&emsp;&emsp;`x`: A numeric vector  \n",
       "&emsp;&emsp;`center`: Whether to center the data  \n",
       "&emsp;&emsp;`scale_`: Whether to scale the data  \n",
       "\n",
       "##### Returns:\n",
       "&emsp;&emsp;The scaled data  \n"
      ],
      "text/plain": [
       "<IPython.core.display.Markdown object>"
      ]
     },
     "metadata": {},
     "output_type": "display_data"
    },
    {
     "data": {
      "text/markdown": [
       "### <div style=\"background-color: #EEE; padding: 5px 0 8px 0\">★ col_sums</div>"
      ],
      "text/plain": [
       "<IPython.core.display.Markdown object>"
      ]
     },
     "metadata": {},
     "output_type": "display_data"
    },
    {
     "data": {
      "text/markdown": [
       "##### Compute the column sums of a matrix\n",
       "\n",
       "##### Args:\n",
       "&emsp;&emsp;`x`: A numeric matrix  \n",
       "&emsp;&emsp;`na_rm`: Whether to remove `NA` values  \n",
       "\n",
       "##### Returns:\n",
       "&emsp;&emsp;The column sums of the matrix  \n"
      ],
      "text/plain": [
       "<IPython.core.display.Markdown object>"
      ]
     },
     "metadata": {},
     "output_type": "display_data"
    },
    {
     "data": {
      "text/markdown": [
       "### <div style=\"background-color: #EEE; padding: 5px 0 8px 0\">★ row_sums</div>"
      ],
      "text/plain": [
       "<IPython.core.display.Markdown object>"
      ]
     },
     "metadata": {},
     "output_type": "display_data"
    },
    {
     "data": {
      "text/markdown": [
       "##### Compute the row sums of a matrix\n",
       "\n",
       "##### Args:\n",
       "&emsp;&emsp;`x`: A numeric matrix  \n",
       "&emsp;&emsp;`na_rm`: Whether to remove `NA` values  \n",
       "\n",
       "##### Returns:\n",
       "&emsp;&emsp;The row sums of the matrix  \n"
      ],
      "text/plain": [
       "<IPython.core.display.Markdown object>"
      ]
     },
     "metadata": {},
     "output_type": "display_data"
    },
    {
     "data": {
      "text/markdown": [
       "### <div style=\"background-color: #EEE; padding: 5px 0 8px 0\">★ col_means</div>"
      ],
      "text/plain": [
       "<IPython.core.display.Markdown object>"
      ]
     },
     "metadata": {},
     "output_type": "display_data"
    },
    {
     "data": {
      "text/markdown": [
       "##### Compute the column means of a matrix\n",
       "\n",
       "##### Args:\n",
       "&emsp;&emsp;`x`: A numeric matrix  \n",
       "&emsp;&emsp;`na_rm`: Whether to remove `NA` values  \n",
       "\n",
       "##### Returns:\n",
       "&emsp;&emsp;The column means of the matrix  \n"
      ],
      "text/plain": [
       "<IPython.core.display.Markdown object>"
      ]
     },
     "metadata": {},
     "output_type": "display_data"
    },
    {
     "data": {
      "text/markdown": [
       "### <div style=\"background-color: #EEE; padding: 5px 0 8px 0\">★ row_means</div>"
      ],
      "text/plain": [
       "<IPython.core.display.Markdown object>"
      ]
     },
     "metadata": {},
     "output_type": "display_data"
    },
    {
     "data": {
      "text/markdown": [
       "##### Compute the row means of a matrix\n",
       "\n",
       "##### Args:\n",
       "&emsp;&emsp;`x`: A numeric matrix  \n",
       "&emsp;&emsp;`na_rm`: Whether to remove `NA` values  \n",
       "\n",
       "##### Returns:\n",
       "&emsp;&emsp;The row means of the matrix  \n"
      ],
      "text/plain": [
       "<IPython.core.display.Markdown object>"
      ]
     },
     "metadata": {},
     "output_type": "display_data"
    },
    {
     "data": {
      "text/markdown": [
       "### <div style=\"background-color: #EEE; padding: 5px 0 8px 0\">★ col_sds</div>"
      ],
      "text/plain": [
       "<IPython.core.display.Markdown object>"
      ]
     },
     "metadata": {},
     "output_type": "display_data"
    },
    {
     "data": {
      "text/markdown": [
       "##### Compute the column standard deviations of a matrix\n",
       "\n",
       "##### Args:\n",
       "&emsp;&emsp;`x`: A numeric matrix  \n",
       "&emsp;&emsp;`na_rm`: Whether to remove `NA` values  \n",
       "\n",
       "##### Returns:\n",
       "&emsp;&emsp;The column standard deviations of the matrix  \n"
      ],
      "text/plain": [
       "<IPython.core.display.Markdown object>"
      ]
     },
     "metadata": {},
     "output_type": "display_data"
    },
    {
     "data": {
      "text/markdown": [
       "### <div style=\"background-color: #EEE; padding: 5px 0 8px 0\">★ row_sds</div>"
      ],
      "text/plain": [
       "<IPython.core.display.Markdown object>"
      ]
     },
     "metadata": {},
     "output_type": "display_data"
    },
    {
     "data": {
      "text/markdown": [
       "##### Compute the row standard deviations of a matrix\n",
       "\n",
       "##### Args:\n",
       "&emsp;&emsp;`x`: A numeric matrix  \n",
       "&emsp;&emsp;`na_rm`: Whether to remove `NA` values  \n",
       "\n",
       "##### Returns:\n",
       "&emsp;&emsp;The row standard deviations of the matrix  \n"
      ],
      "text/plain": [
       "<IPython.core.display.Markdown object>"
      ]
     },
     "metadata": {},
     "output_type": "display_data"
    },
    {
     "data": {
      "text/markdown": [
       "### <div style=\"background-color: #EEE; padding: 5px 0 8px 0\">★ col_medians</div>"
      ],
      "text/plain": [
       "<IPython.core.display.Markdown object>"
      ]
     },
     "metadata": {},
     "output_type": "display_data"
    },
    {
     "data": {
      "text/markdown": [
       "##### Compute the column medians of a matrix\n",
       "\n",
       "##### Args:\n",
       "&emsp;&emsp;`x`: A numeric matrix  \n",
       "&emsp;&emsp;`na_rm`: Whether to remove `NA` values  \n",
       "\n",
       "##### Returns:\n",
       "&emsp;&emsp;The column medians of the matrix  \n"
      ],
      "text/plain": [
       "<IPython.core.display.Markdown object>"
      ]
     },
     "metadata": {},
     "output_type": "display_data"
    },
    {
     "data": {
      "text/markdown": [
       "### <div style=\"background-color: #EEE; padding: 5px 0 8px 0\">★ row_medians</div>"
      ],
      "text/plain": [
       "<IPython.core.display.Markdown object>"
      ]
     },
     "metadata": {},
     "output_type": "display_data"
    },
    {
     "data": {
      "text/markdown": [
       "##### Compute the row medians of a matrix\n",
       "\n",
       "##### Args:\n",
       "&emsp;&emsp;`x`: A numeric matrix  \n",
       "&emsp;&emsp;`na_rm`: Whether to remove `NA` values  \n",
       "\n",
       "##### Returns:\n",
       "&emsp;&emsp;The row medians of the matrix  \n"
      ],
      "text/plain": [
       "<IPython.core.display.Markdown object>"
      ]
     },
     "metadata": {},
     "output_type": "display_data"
    },
    {
     "data": {
      "text/markdown": [
       "### <div style=\"background-color: #EEE; padding: 5px 0 8px 0\">★ quantile</div>"
      ],
      "text/plain": [
       "<IPython.core.display.Markdown object>"
      ]
     },
     "metadata": {},
     "output_type": "display_data"
    },
    {
     "data": {
      "text/markdown": [
       "##### Compute the quantiles of a vector\n",
       "\n",
       "##### Args:\n",
       "&emsp;&emsp;`x`: A numeric vector  \n",
       "&emsp;&emsp;`probs`: The probabilities to use  \n",
       "\n",
       "##### Returns:\n",
       "&emsp;&emsp;The quantiles of the vector  \n"
      ],
      "text/plain": [
       "<IPython.core.display.Markdown object>"
      ]
     },
     "metadata": {},
     "output_type": "display_data"
    },
    {
     "data": {
      "text/markdown": [
       "### <div style=\"background-color: #EEE; padding: 5px 0 8px 0\">★ sd</div>"
      ],
      "text/plain": [
       "<IPython.core.display.Markdown object>"
      ]
     },
     "metadata": {},
     "output_type": "display_data"
    },
    {
     "data": {
      "text/markdown": [
       "##### Compute the standard deviation of a vector\n",
       "\n",
       "##### Args:\n",
       "&emsp;&emsp;`x`: A numeric vector  \n",
       "&emsp;&emsp;`na_rm`: Whether to remove `NA` values  \n",
       "\n",
       "##### Returns:\n",
       "&emsp;&emsp;The standard deviation of the vector  \n"
      ],
      "text/plain": [
       "<IPython.core.display.Markdown object>"
      ]
     },
     "metadata": {},
     "output_type": "display_data"
    },
    {
     "data": {
      "text/markdown": [
       "### <div style=\"background-color: #EEE; padding: 5px 0 8px 0\">★ weighted_mean</div>"
      ],
      "text/plain": [
       "<IPython.core.display.Markdown object>"
      ]
     },
     "metadata": {},
     "output_type": "display_data"
    },
    {
     "data": {
      "text/markdown": [
       "##### Compute the weighted mean of a vector\n",
       "\n",
       "##### Args:\n",
       "&emsp;&emsp;`x`: A numeric vector  \n",
       "&emsp;&emsp;`w`: The weights to use  \n",
       "&emsp;&emsp;`na_rm`: Whether to remove `NA` values  \n",
       "\n",
       "##### Returns:\n",
       "&emsp;&emsp;The weighted mean of the vector  \n"
      ],
      "text/plain": [
       "<IPython.core.display.Markdown object>"
      ]
     },
     "metadata": {},
     "output_type": "display_data"
    }
   ],
   "source": [
    "%run nb_helpers.py\n",
    "\n",
    "from datar.all import *\n",
    "\n",
    "debug_kwargs = {'prefix': '\\n', 'sep': f'\\n{\"-\" * 20}\\n'}\n",
    "nb_header(\n",
    "    sum, prod, mean, median, min, max, var, pmin, pmax,\n",
    "    round, sqrt, abs, sign, trunc, ceiling, floor, signif,\n",
    "    log, exp, log2, log10, log1p, cov, scale, col_sums,\n",
    "    row_sums, col_means, row_means, col_sds, row_sds,\n",
    "    col_medians, row_medians, quantile, sd, weighted_mean\n",
    ")"
   ]
  },
  {
   "cell_type": "code",
   "execution_count": 2,
   "metadata": {},
   "outputs": [
    {
     "name": "stdout",
     "output_type": "stream",
     "text": [
      "\n",
      "sum([1,2,4,6])\n",
      "--------------------\n",
      "13\n",
      "\n",
      "prod([1,2,4,6])\n",
      "--------------------\n",
      "48\n",
      "\n",
      "mean([1,2,4,6])\n",
      "--------------------\n",
      "3.25\n",
      "\n",
      "median([1,2,4,6])\n",
      "--------------------\n",
      "3.0\n",
      "\n",
      "min([1,2,4,6])\n",
      "--------------------\n",
      "1\n",
      "\n",
      "max([1,2,4,6])\n",
      "--------------------\n",
      "6\n",
      "\n",
      "var([1,2,4,6])\n",
      "--------------------\n",
      "4.916666666666667\n",
      "\n",
      "pmin([1,4], [2,3])\n",
      "--------------------\n",
      "array([1, 3])\n",
      "\n",
      "pmax([1,4], [2,3])\n",
      "--------------------\n",
      "array([2, 4])\n"
     ]
    }
   ],
   "source": [
    "\n",
    "debug(\n",
    "    sum([1,2,4,6]),\n",
    "    prod([1,2,4,6]),\n",
    "    mean([1,2,4,6]),\n",
    "    median([1,2,4,6]),\n",
    "    min([1,2,4,6]),\n",
    "    max([1,2,4,6]),\n",
    "    var([1,2,4,6]),\n",
    "    pmin([1,4], [2,3]),\n",
    "    pmax([1,4], [2,3]),\n",
    "    **debug_kwargs\n",
    ")"
   ]
  },
  {
   "cell_type": "code",
   "execution_count": 3,
   "metadata": {},
   "outputs": [
    {
     "name": "stdout",
     "output_type": "stream",
     "text": [
      "\n",
      "round([1.4, 1.5])\n",
      "--------------------\n",
      "array([1., 2.])\n",
      "\n",
      "sqrt([1.1, 2.1])\n",
      "--------------------\n",
      "array([1.04880885, 1.44913767])\n",
      "\n",
      "abs([1, -1])\n",
      "--------------------\n",
      "array([1, 1])\n",
      "\n",
      "sign([10, -10])\n",
      "--------------------\n",
      "array([ 1, -1])\n",
      "\n",
      "trunc([1.1, 2.1])\n",
      "--------------------\n",
      "array([1., 2.])\n",
      "\n",
      "ceiling([1.1, 2.1])\n",
      "--------------------\n",
      "array([2., 3.])\n",
      "\n",
      "floor([1.1, 2.1])\n",
      "--------------------\n",
      "array([1., 2.])\n",
      "\n",
      "signif(3.14567e-10, 3)\n",
      "--------------------\n",
      "array(3.15e-10)\n"
     ]
    }
   ],
   "source": [
    "debug(\n",
    "    round([1.4, 1.5]),\n",
    "    sqrt([1.1, 2.1]),\n",
    "    abs([1, -1]),\n",
    "    sign([10, -10]),\n",
    "    trunc([1.1, 2.1]),\n",
    "    ceiling([1.1, 2.1]),\n",
    "    floor([1.1, 2.1]),\n",
    "    signif(3.14567e-10, 3),\n",
    "    **debug_kwargs\n",
    ")"
   ]
  },
  {
   "cell_type": "code",
   "execution_count": 4,
   "metadata": {},
   "outputs": [
    {
     "name": "stdout",
     "output_type": "stream",
     "text": [
      "\n",
      "log(exp(2))\n",
      "--------------------\n",
      "2.0\n",
      "\n",
      "exp(2)\n",
      "--------------------\n",
      "7.38905609893065\n",
      "\n",
      "log2(4)\n",
      "--------------------\n",
      "2.0\n",
      "\n",
      "log10(100)\n",
      "--------------------\n",
      "2.0\n",
      "\n",
      "log1p(exp(1)-1)\n",
      "--------------------\n",
      "1.0\n",
      "\n",
      "cov([1, 2, 3], [3, 2, 1])\n",
      "--------------------\n",
      "-1.0\n",
      "\n",
      "scale([1, 2, 3])\n",
      "--------------------\n",
      "array([-1.,  0.,  1.])\n"
     ]
    }
   ],
   "source": [
    "debug(\n",
    "    log(exp(2)),\n",
    "    exp(2),\n",
    "    log2(4),\n",
    "    log10(100),\n",
    "    log1p(exp(1)-1),\n",
    "    cov([1, 2, 3], [3, 2, 1]),\n",
    "    scale([1, 2, 3]),\n",
    "    **debug_kwargs\n",
    ")"
   ]
  },
  {
   "cell_type": "code",
   "execution_count": 5,
   "metadata": {},
   "outputs": [
    {
     "name": "stdout",
     "output_type": "stream",
     "text": [
      "\n",
      "df\n",
      "--------------------\n",
      "         v1        v2        v3\n",
      "  <float64> <float64> <float64>\n",
      "0  0.067273  0.015561 -0.633373\n",
      "1 -0.911285  1.526871  0.540873\n",
      "2  1.140124 -0.596385  1.933209\n",
      "3 -0.147867 -0.945199  0.994281\n",
      "4 -2.492679 -1.536482 -0.473660\n",
      "\n",
      "col_sums(df)\n",
      "--------------------\n",
      "v1   -2.344435\n",
      "v2   -1.535634\n",
      "v3    2.361329\n",
      "dtype: float64\n",
      "\n",
      "row_sums(df)\n",
      "--------------------\n",
      "0   -0.550539\n",
      "1    1.156458\n",
      "2    2.476947\n",
      "3   -0.098786\n",
      "4   -4.502821\n",
      "dtype: float64\n",
      "\n",
      "col_means(df)\n",
      "--------------------\n",
      "v1   -0.468887\n",
      "v2   -0.307127\n",
      "v3    0.472266\n",
      "dtype: float64\n",
      "\n",
      "row_means(df)\n",
      "--------------------\n",
      "0   -0.183513\n",
      "1    0.385486\n",
      "2    0.825649\n",
      "3   -0.032929\n",
      "4   -1.500940\n",
      "dtype: float64\n",
      "\n",
      "col_sds(df)\n",
      "--------------------\n",
      "v1    1.348229\n",
      "v2    1.169380\n",
      "v3    1.064046\n",
      "dtype: float64\n",
      "\n",
      "row_sds(df)\n",
      "--------------------\n",
      "0    0.390447\n",
      "1    1.226483\n",
      "2    1.293786\n",
      "3    0.974835\n",
      "4    1.009978\n",
      "dtype: float64\n",
      "\n",
      "col_medians(df)\n",
      "--------------------\n",
      "v1   -0.147867\n",
      "v2   -0.596385\n",
      "v3    0.540873\n",
      "dtype: float64\n",
      "\n",
      "row_medians(df)\n",
      "--------------------\n",
      "0    0.015561\n",
      "1    0.540873\n",
      "2    1.140124\n",
      "3   -0.147867\n",
      "4   -1.536482\n",
      "dtype: float64\n"
     ]
    }
   ],
   "source": [
    "# column and row stats\n",
    "\n",
    "df = tribble(f.v1, f.v2, f.v3, *rnorm(15))\n",
    "debug(\n",
    "    df,\n",
    "    col_sums(df),\n",
    "    row_sums(df),\n",
    "    col_means(df),\n",
    "    row_means(df),\n",
    "    col_sds(df),\n",
    "    row_sds(df),\n",
    "    col_medians(df),\n",
    "    row_medians(df),\n",
    "    **debug_kwargs,\n",
    ")\n"
   ]
  },
  {
   "cell_type": "code",
   "execution_count": 6,
   "metadata": {},
   "outputs": [
    {
     "name": "stdout",
     "output_type": "stream",
     "text": [
      "\n",
      "quantile([1, 2, 3, 4, 5])\n",
      "--------------------\n",
      "array([1., 2., 3., 4., 5.])\n",
      "\n",
      "quantile([1, 2, 3, 4, 5], [0, 1])\n",
      "--------------------\n",
      "array([1, 5])\n",
      "\n",
      "sd([1, 2, 3, 4, 5])\n",
      "--------------------\n",
      "1.5811388300841898\n",
      "\n",
      "weighted_mean([1, 2, 3, 4, 5])\n",
      "--------------------\n",
      "3.0\n",
      "\n",
      "weighted_mean([1, 2, 3, 4, 5], [5, 4, 3, 2, 1])\n",
      "--------------------\n",
      "2.3333333333333335\n"
     ]
    }
   ],
   "source": [
    "debug(\n",
    "    quantile([1, 2, 3, 4, 5]),\n",
    "    quantile([1, 2, 3, 4, 5], [0, 1]),\n",
    "    sd([1, 2, 3, 4, 5]),\n",
    "    weighted_mean([1, 2, 3, 4, 5]),\n",
    "    weighted_mean([1, 2, 3, 4, 5], [5, 4, 3, 2, 1]),\n",
    "    **debug_kwargs,\n",
    ")"
   ]
  }
 ],
 "metadata": {
  "interpreter": {
   "hash": "9ed5c94d10bf621c6841991b7e31ffd0f3c8de8ec4167710459737a50edc58e4"
  },
  "kernelspec": {
   "display_name": "Python 3.9.5 ('base')",
   "language": "python",
   "name": "python3"
  },
  "language_info": {
   "codemirror_mode": {
    "name": "ipython",
    "version": 3
   },
   "file_extension": ".py",
   "mimetype": "text/x-python",
   "name": "python",
   "nbconvert_exporter": "python",
   "pygments_lexer": "ipython3",
   "version": "3.9.5"
  },
  "orig_nbformat": 4
 },
 "nbformat": 4,
 "nbformat_minor": 2
}
