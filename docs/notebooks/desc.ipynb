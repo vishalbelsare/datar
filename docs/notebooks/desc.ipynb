{
 "cells": [
  {
   "cell_type": "code",
   "execution_count": 1,
   "id": "important-empty",
   "metadata": {
    "execution": {
     "iopub.execute_input": "2021-07-16T22:27:38.744602Z",
     "iopub.status.busy": "2021-07-16T22:27:38.743026Z",
     "iopub.status.idle": "2021-07-16T22:27:39.602512Z",
     "shell.execute_reply": "2021-07-16T22:27:39.602933Z"
    }
   },
   "outputs": [
    {
     "data": {
      "text/html": [
       "<div style=\"text-align: right; text-style: italic\">Try this notebook on <a target=\"_blank\" href=\"https://mybinder.org/v2/gh/pwwang/datar/dev?filepath=docs%2Fnotebooks%2Fdesc.ipynb\">binder</a>.</div>"
      ],
      "text/plain": [
       "<IPython.core.display.HTML object>"
      ]
     },
     "metadata": {},
     "output_type": "display_data"
    },
    {
     "data": {
      "text/markdown": [
       "### <div style=\"background-color: #EEE; padding: 5px 0 8px 0\">★ desc</div>"
      ],
      "text/plain": [
       "<IPython.core.display.Markdown object>"
      ]
     },
     "metadata": {},
     "output_type": "display_data"
    },
    {
     "data": {
      "text/markdown": [
       "##### Transform a vector into a format that will be sorted in descending order\n",
       "\n",
       "This is useful within arrange().  \n",
       "\n",
       "The original API:  \n",
       "https://dplyr.tidyverse.org/reference/desc.html  \n",
       "\n",
       "##### Args:\n",
       "&emsp;&emsp;`x`: vector to transform  \n",
       "\n",
       "##### Returns:\n",
       "&emsp;&emsp;The descending order of x  \n"
      ],
      "text/plain": [
       "<IPython.core.display.Markdown object>"
      ]
     },
     "metadata": {},
     "output_type": "display_data"
    }
   ],
   "source": [
    "%run nb_helpers.py\n",
    "from datar.base import factor, letters\n",
    "from datar.dplyr import desc\n",
    "\n",
    "nb_header(desc)"
   ]
  },
  {
   "cell_type": "code",
   "execution_count": 2,
   "id": "equal-software",
   "metadata": {
    "execution": {
     "iopub.execute_input": "2021-07-16T22:27:39.613373Z",
     "iopub.status.busy": "2021-07-16T22:27:39.612755Z",
     "iopub.status.idle": "2021-07-16T22:27:39.620797Z",
     "shell.execute_reply": "2021-07-16T22:27:39.621622Z"
    }
   },
   "outputs": [
    {
     "data": {
      "text/plain": [
       "array([ -1,  -2,  -3,  -4,  -5,  -6,  -7,  -8,  -9, -10])"
      ]
     },
     "execution_count": 2,
     "metadata": {},
     "output_type": "execute_result"
    }
   ],
   "source": [
    "desc(range(1,11))"
   ]
  },
  {
   "cell_type": "code",
   "execution_count": 3,
   "id": "delayed-lincoln",
   "metadata": {
    "execution": {
     "iopub.execute_input": "2021-07-16T22:27:39.642189Z",
     "iopub.status.busy": "2021-07-16T22:27:39.641582Z",
     "iopub.status.idle": "2021-07-16T22:27:39.651348Z",
     "shell.execute_reply": "2021-07-16T22:27:39.651772Z"
    }
   },
   "outputs": [
    {
     "data": {
      "text/plain": [
       "array([ -0.,  -1.,  -2.,  -3.,  -4.,  -5.,  -6.,  -7.,  -8.,  -9., -10.,\n",
       "       -11., -12., -13., -14., -15., -16., -17., -18., -19., -20., -21.,\n",
       "       -22., -23., -24., -25.])"
      ]
     },
     "execution_count": 3,
     "metadata": {},
     "output_type": "execute_result"
    }
   ],
   "source": [
    "desc(factor(letters))"
   ]
  }
 ],
 "metadata": {
  "kernelspec": {
   "display_name": "Python 3.9.5 ('base')",
   "language": "python",
   "name": "python3"
  },
  "language_info": {
   "codemirror_mode": {
    "name": "ipython",
    "version": 3
   },
   "file_extension": ".py",
   "mimetype": "text/x-python",
   "name": "python",
   "nbconvert_exporter": "python",
   "pygments_lexer": "ipython3",
   "version": "3.9.5"
  },
  "vscode": {
   "interpreter": {
    "hash": "9ed5c94d10bf621c6841991b7e31ffd0f3c8de8ec4167710459737a50edc58e4"
   }
  }
 },
 "nbformat": 4,
 "nbformat_minor": 5
}
