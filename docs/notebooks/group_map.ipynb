{
 "cells": [
  {
   "cell_type": "code",
   "execution_count": 2,
   "id": "57a3cb89",
   "metadata": {
    "execution": {
     "iopub.execute_input": "2021-07-16T22:28:15.978059Z",
     "iopub.status.busy": "2021-07-16T22:28:15.977453Z",
     "iopub.status.idle": "2021-07-16T22:28:17.260200Z",
     "shell.execute_reply": "2021-07-16T22:28:17.260642Z"
    }
   },
   "outputs": [
    {
     "data": {
      "text/html": [
       "<div style=\"text-align: right; text-style: italic\">Try this notebook on <a target=\"_blank\" href=\"https://mybinder.org/v2/gh/pwwang/datar/dev?filepath=docs%2Fnotebooks%2Fgroup_map.ipynb\">binder</a>.</div>"
      ],
      "text/plain": [
       "<IPython.core.display.HTML object>"
      ]
     },
     "metadata": {},
     "output_type": "display_data"
    },
    {
     "data": {
      "text/markdown": [
       "### <div style=\"background-color: #EEE; padding: 5px 0 8px 0\">★ group_map</div>"
      ],
      "text/plain": [
       "<IPython.core.display.Markdown object>"
      ]
     },
     "metadata": {},
     "output_type": "display_data"
    },
    {
     "data": {
      "text/markdown": [
       "##### Apply a function to each group\n",
       "\n",
       "The original API:  \n",
       "https://dplyr.tidyverse.org/reference/group_map.html  \n",
       "\n",
       "##### Args:\n",
       "&emsp;&emsp;`_data`: A grouped frame  \n",
       "&emsp;&emsp;`_f`: A function to apply to each group.  \n",
       "&emsp;&emsp;`*args`: Additional arguments to pass to `func`.  \n",
       "&emsp;&emsp;`_keep`: If `True`, keep the grouping variables in the output.  \n",
       "&emsp;&emsp;`**kwargs`: Additional keyword arguments to pass to `func`.  \n",
       "\n",
       "##### Returns:\n",
       "&emsp;&emsp;A list of results  \n"
      ],
      "text/plain": [
       "<IPython.core.display.Markdown object>"
      ]
     },
     "metadata": {},
     "output_type": "display_data"
    }
   ],
   "source": [
    "# https://dplyr.tidyverse.org/reference/group_map.html\n",
    "%run nb_helpers.py\n",
    "\n",
    "from datar.data import mtcars, iris\n",
    "from datar.all import *\n",
    "\n",
    "nb_header(group_map)"
   ]
  },
  {
   "cell_type": "code",
   "execution_count": 3,
   "id": "8dae4674",
   "metadata": {
    "execution": {
     "iopub.execute_input": "2021-07-16T22:28:17.269961Z",
     "iopub.status.busy": "2021-07-16T22:28:17.269298Z",
     "iopub.status.idle": "2021-07-16T22:28:17.374049Z",
     "shell.execute_reply": "2021-07-16T22:28:17.374622Z"
    }
   },
   "outputs": [
    {
     "data": {
      "text/plain": [
       "[        mpg      disp      hp      drat  ...      vs      am    gear    carb\n",
       "   <float64> <float64> <int64> <float64>  ... <int64> <int64> <int64> <int64>\n",
       " 0      21.0     160.0     110       3.9  ...       0       1       4       4\n",
       " 1      21.0     160.0     110       3.9            0       1       4       4\n",
       " \n",
       " [2 rows x 10 columns],\n",
       "         mpg      disp      hp      drat  ...      vs      am    gear    carb\n",
       "   <float64> <float64> <int64> <float64>  ... <int64> <int64> <int64> <int64>\n",
       " 0      22.8     108.0      93      3.85  ...       1       1       4       1\n",
       " 1      24.4     146.7      62      3.69            1       0       4       2\n",
       " \n",
       " [2 rows x 10 columns],\n",
       "         mpg      disp      hp      drat  ...      vs      am    gear    carb\n",
       "   <float64> <float64> <int64> <float64>  ... <int64> <int64> <int64> <int64>\n",
       " 0      18.7     360.0     175      3.15  ...       0       0       3       2\n",
       " 1      14.3     360.0     245      3.21            0       0       3       4\n",
       " \n",
       " [2 rows x 10 columns]]"
      ]
     },
     "execution_count": 3,
     "metadata": {},
     "output_type": "execute_result"
    }
   ],
   "source": [
    "list(\n",
    "  mtcars >> \\\n",
    "  group_by(f.cyl) >> \\\n",
    "  group_map(lambda df: df >> head(2))\n",
    ")\n"
   ]
  },
  {
   "cell_type": "code",
   "execution_count": 4,
   "id": "3dd99448",
   "metadata": {
    "execution": {
     "iopub.execute_input": "2021-07-16T22:28:17.471163Z",
     "iopub.status.busy": "2021-07-16T22:28:17.469789Z",
     "iopub.status.idle": "2021-07-16T22:28:17.656298Z",
     "shell.execute_reply": "2021-07-16T22:28:17.656823Z"
    }
   },
   "outputs": [
    {
     "data": {
      "text/html": [
       "<div>\n",
       "<style scoped>\n",
       "    .dataframe tbody tr th:only-of-type {\n",
       "        vertical-align: middle;\n",
       "    }\n",
       "\n",
       "    .dataframe tbody tr th {\n",
       "        vertical-align: top;\n",
       "    }\n",
       "\n",
       "    .dataframe thead th {\n",
       "        text-align: right;\n",
       "    }\n",
       "</style>\n",
       "<table border=\"1\" class=\"dataframe\">\n",
       "  <thead>\n",
       "    <tr style=\"text-align: right;\">\n",
       "      <th></th>\n",
       "      <th>cyl</th>\n",
       "      <th>mpg</th>\n",
       "      <th>disp</th>\n",
       "      <th>hp</th>\n",
       "      <th>drat</th>\n",
       "      <th>wt</th>\n",
       "      <th>qsec</th>\n",
       "      <th>vs</th>\n",
       "      <th>am</th>\n",
       "      <th>gear</th>\n",
       "      <th>carb</th>\n",
       "    </tr>\n",
       "  </thead>\n",
       "  <tbody>\n",
       "    <tr>\n",
       "      <th style=\"font-style: italic;\" ></th>\n",
       "      <td style=\"font-style: italic;\" >&lt;int64&gt;</td>\n",
       "      <td style=\"font-style: italic;\" >&lt;float64&gt;</td>\n",
       "      <td style=\"font-style: italic;\" >&lt;float64&gt;</td>\n",
       "      <td style=\"font-style: italic;\" >&lt;int64&gt;</td>\n",
       "      <td style=\"font-style: italic;\" >&lt;float64&gt;</td>\n",
       "      <td style=\"font-style: italic;\" >&lt;float64&gt;</td>\n",
       "      <td style=\"font-style: italic;\" >&lt;float64&gt;</td>\n",
       "      <td style=\"font-style: italic;\" >&lt;int64&gt;</td>\n",
       "      <td style=\"font-style: italic;\" >&lt;int64&gt;</td>\n",
       "      <td style=\"font-style: italic;\" >&lt;int64&gt;</td>\n",
       "      <td style=\"font-style: italic;\" >&lt;int64&gt;</td>\n",
       "    </tr>\n",
       "    <tr>\n",
       "      <th>0</th>\n",
       "      <td>6</td>\n",
       "      <td>21.0</td>\n",
       "      <td>160.0</td>\n",
       "      <td>110</td>\n",
       "      <td>3.90</td>\n",
       "      <td>2.620</td>\n",
       "      <td>16.46</td>\n",
       "      <td>0</td>\n",
       "      <td>1</td>\n",
       "      <td>4</td>\n",
       "      <td>4</td>\n",
       "    </tr>\n",
       "    <tr>\n",
       "      <th>1</th>\n",
       "      <td>6</td>\n",
       "      <td>21.0</td>\n",
       "      <td>160.0</td>\n",
       "      <td>110</td>\n",
       "      <td>3.90</td>\n",
       "      <td>2.875</td>\n",
       "      <td>17.02</td>\n",
       "      <td>0</td>\n",
       "      <td>1</td>\n",
       "      <td>4</td>\n",
       "      <td>4</td>\n",
       "    </tr>\n",
       "    <tr>\n",
       "      <th>0</th>\n",
       "      <td>4</td>\n",
       "      <td>22.8</td>\n",
       "      <td>108.0</td>\n",
       "      <td>93</td>\n",
       "      <td>3.85</td>\n",
       "      <td>2.320</td>\n",
       "      <td>18.61</td>\n",
       "      <td>1</td>\n",
       "      <td>1</td>\n",
       "      <td>4</td>\n",
       "      <td>1</td>\n",
       "    </tr>\n",
       "    <tr>\n",
       "      <th>1</th>\n",
       "      <td>4</td>\n",
       "      <td>24.4</td>\n",
       "      <td>146.7</td>\n",
       "      <td>62</td>\n",
       "      <td>3.69</td>\n",
       "      <td>3.190</td>\n",
       "      <td>20.00</td>\n",
       "      <td>1</td>\n",
       "      <td>0</td>\n",
       "      <td>4</td>\n",
       "      <td>2</td>\n",
       "    </tr>\n",
       "    <tr>\n",
       "      <th>0</th>\n",
       "      <td>8</td>\n",
       "      <td>18.7</td>\n",
       "      <td>360.0</td>\n",
       "      <td>175</td>\n",
       "      <td>3.15</td>\n",
       "      <td>3.440</td>\n",
       "      <td>17.02</td>\n",
       "      <td>0</td>\n",
       "      <td>0</td>\n",
       "      <td>3</td>\n",
       "      <td>2</td>\n",
       "    </tr>\n",
       "    <tr>\n",
       "      <th>1</th>\n",
       "      <td>8</td>\n",
       "      <td>14.3</td>\n",
       "      <td>360.0</td>\n",
       "      <td>245</td>\n",
       "      <td>3.21</td>\n",
       "      <td>3.570</td>\n",
       "      <td>15.84</td>\n",
       "      <td>0</td>\n",
       "      <td>0</td>\n",
       "      <td>3</td>\n",
       "      <td>4</td>\n",
       "    </tr>\n",
       "  </tbody>\n",
       "</table>\n",
       "</div>\n",
       "<p>TibbleGrouped: cyl (n=3)"
      ],
      "text/plain": [
       "      cyl       mpg      disp      hp  ...      vs      am    gear    carb\n",
       "  <int64> <float64> <float64> <int64>  ... <int64> <int64> <int64> <int64>\n",
       "0       6      21.0     160.0     110  ...       0       1       4       4\n",
       "1       6      21.0     160.0     110  ...       0       1       4       4\n",
       "0       4      22.8     108.0      93  ...       1       1       4       1\n",
       "1       4      24.4     146.7      62  ...       1       0       4       2\n",
       "0       8      18.7     360.0     175  ...       0       0       3       2\n",
       "1       8      14.3     360.0     245            0       0       3       4\n",
       "\n",
       "[6 rows x 11 columns]\n",
       "[TibbleGrouped: cyl (n=3)]"
      ]
     },
     "execution_count": 4,
     "metadata": {},
     "output_type": "execute_result"
    }
   ],
   "source": [
    "\n",
    "mtcars >> \\\n",
    "  group_by(f.cyl) >> \\\n",
    "  group_modify(lambda df: df >> head(2))"
   ]
  },
  {
   "cell_type": "code",
   "execution_count": 5,
   "id": "9713979f",
   "metadata": {
    "execution": {
     "iopub.execute_input": "2021-07-16T22:28:17.705307Z",
     "iopub.status.busy": "2021-07-16T22:28:17.704323Z",
     "iopub.status.idle": "2021-07-16T22:28:17.736655Z",
     "shell.execute_reply": "2021-07-16T22:28:17.733142Z"
    }
   },
   "outputs": [
    {
     "data": {
      "text/plain": [
       "[array([1.4  , 1.5  , 1.575]),\n",
       " array([4.  , 4.35, 4.6 ]),\n",
       " array([5.1  , 5.55 , 5.875])]"
      ]
     },
     "execution_count": 5,
     "metadata": {},
     "output_type": "execute_result"
    }
   ],
   "source": [
    "list(\n",
    "  iris >> \\\n",
    "  group_by(f.Species) >> \\\n",
    "  group_map(lambda df: quantile(df['Petal_Length'], probs=c(0.25, 0.5, 0.75)))\n",
    ")"
   ]
  },
  {
   "cell_type": "code",
   "execution_count": 6,
   "id": "f1da70a0",
   "metadata": {
    "execution": {
     "iopub.execute_input": "2021-07-16T22:28:17.775636Z",
     "iopub.status.busy": "2021-07-16T22:28:17.774540Z",
     "iopub.status.idle": "2021-07-16T22:28:17.786685Z",
     "shell.execute_reply": "2021-07-16T22:28:17.787352Z"
    }
   },
   "outputs": [
    {
     "name": "stdout",
     "output_type": "stream",
     "text": [
      "(50, 4)\n",
      "(50, 4)\n",
      "(50, 4)\n"
     ]
    }
   ],
   "source": [
    "iris >> \\\n",
    "  group_by(f.Species) >> \\\n",
    "  group_walk(lambda df: print(df.shape))"
   ]
  },
  {
   "cell_type": "code",
   "execution_count": 7,
   "id": "fe130860",
   "metadata": {
    "execution": {
     "iopub.execute_input": "2021-07-16T22:28:17.821207Z",
     "iopub.status.busy": "2021-07-16T22:28:17.820364Z",
     "iopub.status.idle": "2021-07-16T22:28:17.836773Z",
     "shell.execute_reply": "2021-07-16T22:28:17.837212Z"
    }
   },
   "outputs": [
    {
     "data": {
      "text/html": [
       "<div>\n",
       "<style scoped>\n",
       "    .dataframe tbody tr th:only-of-type {\n",
       "        vertical-align: middle;\n",
       "    }\n",
       "\n",
       "    .dataframe tbody tr th {\n",
       "        vertical-align: top;\n",
       "    }\n",
       "\n",
       "    .dataframe thead th {\n",
       "        text-align: right;\n",
       "    }\n",
       "</style>\n",
       "<table border=\"1\" class=\"dataframe\">\n",
       "  <thead>\n",
       "    <tr style=\"text-align: right;\">\n",
       "      <th></th>\n",
       "      <th>mpg</th>\n",
       "      <th>cyl</th>\n",
       "      <th>disp</th>\n",
       "      <th>hp</th>\n",
       "      <th>drat</th>\n",
       "      <th>wt</th>\n",
       "      <th>qsec</th>\n",
       "      <th>vs</th>\n",
       "      <th>am</th>\n",
       "      <th>gear</th>\n",
       "      <th>carb</th>\n",
       "    </tr>\n",
       "  </thead>\n",
       "  <tbody>\n",
       "    <tr>\n",
       "      <th style=\"font-style: italic;\" ></th>\n",
       "      <td style=\"font-style: italic;\" >&lt;float64&gt;</td>\n",
       "      <td style=\"font-style: italic;\" >&lt;int64&gt;</td>\n",
       "      <td style=\"font-style: italic;\" >&lt;float64&gt;</td>\n",
       "      <td style=\"font-style: italic;\" >&lt;int64&gt;</td>\n",
       "      <td style=\"font-style: italic;\" >&lt;float64&gt;</td>\n",
       "      <td style=\"font-style: italic;\" >&lt;float64&gt;</td>\n",
       "      <td style=\"font-style: italic;\" >&lt;float64&gt;</td>\n",
       "      <td style=\"font-style: italic;\" >&lt;int64&gt;</td>\n",
       "      <td style=\"font-style: italic;\" >&lt;int64&gt;</td>\n",
       "      <td style=\"font-style: italic;\" >&lt;int64&gt;</td>\n",
       "      <td style=\"font-style: italic;\" >&lt;int64&gt;</td>\n",
       "    </tr>\n",
       "    <tr>\n",
       "      <th>Mazda RX4</th>\n",
       "      <td>21.0</td>\n",
       "      <td>6</td>\n",
       "      <td>160.0</td>\n",
       "      <td>110</td>\n",
       "      <td>3.9</td>\n",
       "      <td>2.620</td>\n",
       "      <td>16.46</td>\n",
       "      <td>0</td>\n",
       "      <td>1</td>\n",
       "      <td>4</td>\n",
       "      <td>4</td>\n",
       "    </tr>\n",
       "    <tr>\n",
       "      <th>Mazda RX4 Wag</th>\n",
       "      <td>21.0</td>\n",
       "      <td>6</td>\n",
       "      <td>160.0</td>\n",
       "      <td>110</td>\n",
       "      <td>3.9</td>\n",
       "      <td>2.875</td>\n",
       "      <td>17.02</td>\n",
       "      <td>0</td>\n",
       "      <td>1</td>\n",
       "      <td>4</td>\n",
       "      <td>4</td>\n",
       "    </tr>\n",
       "  </tbody>\n",
       "</table>\n",
       "</div>\n"
      ],
      "text/plain": [
       "                    mpg     cyl      disp  ...      am    gear    carb\n",
       "              <float64> <int64> <float64>  ... <int64> <int64> <int64>\n",
       "Mazda RX4          21.0       6     160.0  ...       1       4       4\n",
       "Mazda RX4 Wag      21.0       6     160.0            1       4       4\n",
       "\n",
       "[2 rows x 11 columns]"
      ]
     },
     "execution_count": 7,
     "metadata": {},
     "output_type": "execute_result"
    }
   ],
   "source": [
    "mtcars >> \\\n",
    "  group_modify(lambda df: df >> head(2))"
   ]
  },
  {
   "cell_type": "code",
   "execution_count": null,
   "id": "af50d40c",
   "metadata": {},
   "outputs": [],
   "source": []
  }
 ],
 "metadata": {
  "kernelspec": {
   "display_name": "Python 3.9.5 ('base')",
   "language": "python",
   "name": "python3"
  },
  "language_info": {
   "codemirror_mode": {
    "name": "ipython",
    "version": 3
   },
   "file_extension": ".py",
   "mimetype": "text/x-python",
   "name": "python",
   "nbconvert_exporter": "python",
   "pygments_lexer": "ipython3",
   "version": "3.9.5"
  },
  "vscode": {
   "interpreter": {
    "hash": "9ed5c94d10bf621c6841991b7e31ffd0f3c8de8ec4167710459737a50edc58e4"
   }
  }
 },
 "nbformat": 4,
 "nbformat_minor": 5
}
