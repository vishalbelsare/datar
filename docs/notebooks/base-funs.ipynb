{
 "cells": [
  {
   "cell_type": "code",
   "execution_count": 1,
   "metadata": {},
   "outputs": [
    {
     "data": {
      "text/html": [
       "<div style=\"text-align: right; text-style: italic\">Try this notebook on <a target=\"_blank\" href=\"https://mybinder.org/v2/gh/pwwang/datar/dev?filepath=docs%2Fnotebooks%2Fcut.ipynb\">binder</a>.</div>"
      ],
      "text/plain": [
       "<IPython.core.display.HTML object>"
      ]
     },
     "metadata": {},
     "output_type": "display_data"
    },
    {
     "data": {
      "text/markdown": [
       "### <div style=\"background-color: #EEE; padding: 5px 0 8px 0\">★ cut</div>"
      ],
      "text/plain": [
       "<IPython.core.display.Markdown object>"
      ]
     },
     "metadata": {},
     "output_type": "display_data"
    },
    {
     "data": {
      "text/markdown": [
       "##### Cut a numeric vector into bins\n",
       "\n",
       "##### Args:\n",
       "&emsp;&emsp;`x`: A numeric vector  \n",
       "&emsp;&emsp;`breaks`: The breaks  \n",
       "&emsp;&emsp;`labels`: The labels  \n",
       "&emsp;&emsp;`include_lowest`: Whether to include the lowest value  \n",
       "&emsp;&emsp;`right`: Whether to include the rightmost value  \n",
       "&emsp;&emsp;`dig_lab`: The number of digits for labels  \n",
       "&emsp;&emsp;`ordered_result`: Whether to return an ordered factor  \n",
       "\n",
       "##### Returns:\n",
       "&emsp;&emsp;The factor vector  \n"
      ],
      "text/plain": [
       "<IPython.core.display.Markdown object>"
      ]
     },
     "metadata": {},
     "output_type": "display_data"
    },
    {
     "data": {
      "text/markdown": [
       "### <div style=\"background-color: #EEE; padding: 5px 0 8px 0\">★ diff</div>"
      ],
      "text/plain": [
       "<IPython.core.display.Markdown object>"
      ]
     },
     "metadata": {},
     "output_type": "display_data"
    },
    {
     "data": {
      "text/markdown": [
       "##### Difference of a numeric vector\n",
       "\n",
       "##### Args:\n",
       "&emsp;&emsp;`x`: A numeric vector  \n",
       "&emsp;&emsp;`lag`: The lag to use. Could be negative.  \n",
       "&emsp;&emsp;&emsp;&emsp;It always calculates `x[lag:] - x[:-lag]` even when `lag` is  \n",
       "&emsp;&emsp;&emsp;&emsp;negative  \n",
       "\n",
       "&emsp;&emsp;`differences`: The order of the difference  \n",
       "\n",
       "##### Returns:\n",
       "&emsp;&emsp;An array of `x[lag:] – x[:-lag]`.  \n",
       "&emsp;&emsp;If `differences > 1`, the rule applies `differences` times on `x`  \n"
      ],
      "text/plain": [
       "<IPython.core.display.Markdown object>"
      ]
     },
     "metadata": {},
     "output_type": "display_data"
    },
    {
     "data": {
      "text/markdown": [
       "### <div style=\"background-color: #EEE; padding: 5px 0 8px 0\">★ identity</div>"
      ],
      "text/plain": [
       "<IPython.core.display.Markdown object>"
      ]
     },
     "metadata": {},
     "output_type": "display_data"
    },
    {
     "data": {
      "text/markdown": [
       "##### Identity function\n",
       "\n",
       "##### Args:\n",
       "&emsp;&emsp;`x`: A numeric vector  \n",
       "\n",
       "##### Returns:\n",
       "&emsp;&emsp;The same vector  \n"
      ],
      "text/plain": [
       "<IPython.core.display.Markdown object>"
      ]
     },
     "metadata": {},
     "output_type": "display_data"
    },
    {
     "data": {
      "text/markdown": [
       "### <div style=\"background-color: #EEE; padding: 5px 0 8px 0\">★ expand_grid</div>"
      ],
      "text/plain": [
       "<IPython.core.display.Markdown object>"
      ]
     },
     "metadata": {},
     "output_type": "display_data"
    },
    {
     "data": {
      "text/markdown": [
       "##### Expand a grid\n",
       "\n",
       "##### Args:\n",
       "&emsp;&emsp;`x`: A numeric vector  \n",
       "&emsp;&emsp;`*args`: Additional numeric vectors  \n",
       "&emsp;&emsp;`**kwargs`: Additional keyword arguments  \n",
       "\n",
       "##### Returns:\n",
       "&emsp;&emsp;The expanded grid  \n"
      ],
      "text/plain": [
       "<IPython.core.display.Markdown object>"
      ]
     },
     "metadata": {},
     "output_type": "display_data"
    },
    {
     "data": {
      "text/markdown": [
       "### <div style=\"background-color: #EEE; padding: 5px 0 8px 0\">★ outer</div>"
      ],
      "text/plain": [
       "<IPython.core.display.Markdown object>"
      ]
     },
     "metadata": {},
     "output_type": "display_data"
    },
    {
     "data": {
      "text/markdown": [
       "##### Outer product of two vectors\n",
       "\n",
       "##### Args:\n",
       "&emsp;&emsp;`x`: A numeric vector  \n",
       "&emsp;&emsp;`y`: A numeric vector  \n",
       "&emsp;&emsp;`fun`: The function to handle how the result of the elements from  \n",
       "&emsp;&emsp;&emsp;&emsp;the first and second vectors should be computed.  \n",
       "&emsp;&emsp;&emsp;&emsp;The function has to be vectorized at the second argument, and  \n",
       "&emsp;&emsp;&emsp;&emsp;return the same shape as y.  \n",
       "\n",
       "##### Returns:\n",
       "&emsp;&emsp;The outer product  \n"
      ],
      "text/plain": [
       "<IPython.core.display.Markdown object>"
      ]
     },
     "metadata": {},
     "output_type": "display_data"
    },
    {
     "data": {
      "text/markdown": [
       "### <div style=\"background-color: #EEE; padding: 5px 0 8px 0\">★ make_names</div>"
      ],
      "text/plain": [
       "<IPython.core.display.Markdown object>"
      ]
     },
     "metadata": {},
     "output_type": "display_data"
    },
    {
     "data": {
      "text/markdown": [
       "##### Make names for a vector\n",
       "\n",
       "##### Args:\n",
       "&emsp;&emsp;`names`: character vector to be coerced to syntactically valid names.  \n",
       "&emsp;&emsp;&emsp;&emsp;This is coerced to character if necessary.  \n",
       "\n",
       "&emsp;&emsp;`unique`: Whether to make the names unique  \n",
       "\n",
       "##### Returns:\n",
       "&emsp;&emsp;The names  \n"
      ],
      "text/plain": [
       "<IPython.core.display.Markdown object>"
      ]
     },
     "metadata": {},
     "output_type": "display_data"
    },
    {
     "data": {
      "text/markdown": [
       "### <div style=\"background-color: #EEE; padding: 5px 0 8px 0\">★ make_unique</div>"
      ],
      "text/plain": [
       "<IPython.core.display.Markdown object>"
      ]
     },
     "metadata": {},
     "output_type": "display_data"
    },
    {
     "data": {
      "text/markdown": [
       "##### Make a vector unique\n",
       "\n",
       "##### Args:\n",
       "&emsp;&emsp;`names`: a character vector  \n",
       "\n",
       "##### Returns:\n",
       "&emsp;&emsp;The unique vector  \n"
      ],
      "text/plain": [
       "<IPython.core.display.Markdown object>"
      ]
     },
     "metadata": {},
     "output_type": "display_data"
    },
    {
     "data": {
      "text/markdown": [
       "### <div style=\"background-color: #EEE; padding: 5px 0 8px 0\">★ rank</div>"
      ],
      "text/plain": [
       "<IPython.core.display.Markdown object>"
      ]
     },
     "metadata": {},
     "output_type": "display_data"
    },
    {
     "data": {
      "text/markdown": [
       "##### Rank a numeric vector\n",
       "\n",
       "##### Args:\n",
       "&emsp;&emsp;`x`: A numeric vector  \n",
       "&emsp;&emsp;`na_last`: Whether to put NA at the end  \n",
       "&emsp;&emsp;`ties_method`: The method to handle ties. One of \"average\", \"first\",  \n",
       "&emsp;&emsp;&emsp;&emsp;\"last\", \"random\", \"max\", \"min\"  \n",
       "\n",
       "##### Returns:\n",
       "&emsp;&emsp;The ranks  \n"
      ],
      "text/plain": [
       "<IPython.core.display.Markdown object>"
      ]
     },
     "metadata": {},
     "output_type": "display_data"
    }
   ],
   "source": [
    "%run nb_helpers.py\n",
    "\n",
    "from datar.all import *\n",
    "\n",
    "debug_kwargs = {'prefix': '\\n', 'sep': f'\\n{\"-\" * 20}\\n'}\n",
    "nb_header(\n",
    "    cut, diff, identity, expand_grid, outer, \n",
    "    make_names, make_unique, rank,\n",
    ")"
   ]
  },
  {
   "cell_type": "code",
   "execution_count": 2,
   "metadata": {},
   "outputs": [
    {
     "name": "stderr",
     "output_type": "stream",
     "text": [
      "[2022-12-02 13:26:45][datar][WARNING] New names:\n",
      "[2022-12-02 13:26:45][datar][WARNING] * '_1' -> '__0'\n",
      "[2022-12-02 13:26:45][datar][WARNING] * '_2' -> '__1'\n",
      "[2022-12-02 13:26:45][datar][WARNING] * '_3' -> '__2'\n",
      "[2022-12-02 13:26:45][datar][WARNING] New names:\n",
      "[2022-12-02 13:26:45][datar][WARNING] * '_1' -> '__0'\n",
      "[2022-12-02 13:26:45][datar][WARNING] * '_1' -> '__1'\n",
      "[2022-12-02 13:26:45][datar][WARNING] * '_1' -> '__2'\n"
     ]
    },
    {
     "name": "stdout",
     "output_type": "stream",
     "text": [
      "\n",
      "cut(seq(1,10), 3)\n",
      "--------------------\n",
      "[(0.99, 4.0], (0.99, 4.0], (0.99, 4.0], (0.99, 4.0], (4.0, 7.0], (4.0, 7.0], (4.0, 7.0], (7.0, 10.0], (7.0, 10.0], (7.0, 10.0]]\n",
      "Categories (3, interval[float64, right]): [(0.99, 4.0] < (4.0, 7.0] < (7.0, 10.0]]\n",
      "\n",
      "diff([1, 2, 3])\n",
      "--------------------\n",
      "array([1, 1])\n",
      "\n",
      "identity(1.23)\n",
      "--------------------\n",
      "1.23\n",
      "\n",
      "expand_grid([1,2], [3,4])\n",
      "--------------------\n",
      "   _VAR_0  _VAR_1\n",
      "  <int64> <int64>\n",
      "0       1       3\n",
      "1       1       4\n",
      "2       2       3\n",
      "3       2       4\n",
      "\n",
      "outer([1,2], [3,4])\n",
      "--------------------\n",
      "        0       1\n",
      "  <int64> <int64>\n",
      "0       3       4\n",
      "1       6       8\n",
      "\n",
      "make_names([1, 2, 3])\n",
      "--------------------\n",
      "['__0', '__1', '__2']\n",
      "\n",
      "make_unique([1, 1, 1])\n",
      "--------------------\n",
      "['__0', '__1', '__2']\n",
      "\n",
      "rank([3, 4, 1, -1])\n",
      "--------------------\n",
      "array([3., 4., 2., 1.])\n"
     ]
    }
   ],
   "source": [
    "debug(\n",
    "    cut(seq(1,10), 3), \n",
    "    diff([1, 2, 3]),\n",
    "    identity(1.23),\n",
    "    expand_grid([1,2], [3,4]),\n",
    "    outer([1,2], [3,4]),\n",
    "    make_names([1, 2, 3]),\n",
    "    make_unique([1, 1, 1]),\n",
    "    rank([3, 4, 1, -1]),\n",
    "    **debug_kwargs\n",
    ")"
   ]
  }
 ],
 "metadata": {
  "interpreter": {
   "hash": "9ed5c94d10bf621c6841991b7e31ffd0f3c8de8ec4167710459737a50edc58e4"
  },
  "kernelspec": {
   "display_name": "Python 3.9.5 ('base')",
   "language": "python",
   "name": "python3"
  },
  "language_info": {
   "codemirror_mode": {
    "name": "ipython",
    "version": 3
   },
   "file_extension": ".py",
   "mimetype": "text/x-python",
   "name": "python",
   "nbconvert_exporter": "python",
   "pygments_lexer": "ipython3",
   "version": "3.9.5"
  },
  "orig_nbformat": 4
 },
 "nbformat": 4,
 "nbformat_minor": 2
}
