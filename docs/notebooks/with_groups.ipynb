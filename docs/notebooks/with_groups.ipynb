{
 "cells": [
  {
   "cell_type": "code",
   "execution_count": 1,
   "id": "86647a1e",
   "metadata": {
    "execution": {
     "iopub.execute_input": "2021-07-16T22:27:23.471684Z",
     "iopub.status.busy": "2021-07-16T22:27:23.470754Z",
     "iopub.status.idle": "2021-07-16T22:27:24.596869Z",
     "shell.execute_reply": "2021-07-16T22:27:24.592829Z"
    }
   },
   "outputs": [
    {
     "data": {
      "text/html": [
       "<div style=\"text-align: right; text-style: italic\">Try this notebook on <a target=\"_blank\" href=\"https://mybinder.org/v2/gh/pwwang/datar/dev?filepath=docs%2Fnotebooks%2Fwith_groups.ipynb\">binder</a>.</div>"
      ],
      "text/plain": [
       "<IPython.core.display.HTML object>"
      ]
     },
     "metadata": {},
     "output_type": "display_data"
    },
    {
     "data": {
      "text/markdown": [
       "### <div style=\"background-color: #EEE; padding: 5px 0 8px 0\">★ with_groups</div>"
      ],
      "text/plain": [
       "<IPython.core.display.Markdown object>"
      ]
     },
     "metadata": {},
     "output_type": "display_data"
    },
    {
     "data": {
      "text/markdown": [
       "##### Modify the grouping variables for a single operation.\n",
       "\n",
       "##### Args:\n",
       "&emsp;&emsp;`_data`: A data frame  \n",
       "&emsp;&emsp;`_groups`: columns passed by group_by  \n",
       "&emsp;&emsp;&emsp;&emsp;Use None to temporarily ungroup.  \n",
       "\n",
       "&emsp;&emsp;`_func`: Function to apply to regrouped data.  \n",
       "\n",
       "##### Returns:\n",
       "&emsp;&emsp;The new data frame with operations applied.  \n"
      ],
      "text/plain": [
       "<IPython.core.display.Markdown object>"
      ]
     },
     "metadata": {},
     "output_type": "display_data"
    }
   ],
   "source": [
    "# https://dplyr.tidyverse.org/reference/with_groups.html\n",
    "%run nb_helpers.py\n",
    "\n",
    "from datar.all import *\n",
    "\n",
    "nb_header(with_groups)"
   ]
  },
  {
   "cell_type": "code",
   "execution_count": 2,
   "id": "139a79fa",
   "metadata": {
    "execution": {
     "iopub.execute_input": "2021-07-16T22:27:24.654249Z",
     "iopub.status.busy": "2021-07-16T22:27:24.653532Z",
     "iopub.status.idle": "2021-07-16T22:27:25.280451Z",
     "shell.execute_reply": "2021-07-16T22:27:25.281069Z"
    }
   },
   "outputs": [
    {
     "data": {
      "text/html": [
       "<div>\n",
       "<style scoped>\n",
       "    .dataframe tbody tr th:only-of-type {\n",
       "        vertical-align: middle;\n",
       "    }\n",
       "\n",
       "    .dataframe tbody tr th {\n",
       "        vertical-align: top;\n",
       "    }\n",
       "\n",
       "    .dataframe thead th {\n",
       "        text-align: right;\n",
       "    }\n",
       "</style>\n",
       "<table border=\"1\" class=\"dataframe\">\n",
       "  <thead>\n",
       "    <tr style=\"text-align: right;\">\n",
       "      <th></th>\n",
       "      <th>g</th>\n",
       "      <th>x</th>\n",
       "      <th>x_mean</th>\n",
       "    </tr>\n",
       "  </thead>\n",
       "  <tbody>\n",
       "    <tr>\n",
       "      <th style=\"font-style: italic;\" ></th>\n",
       "      <td style=\"font-style: italic;\" >&lt;int64&gt;</td>\n",
       "      <td style=\"font-style: italic;\" >&lt;float64&gt;</td>\n",
       "      <td style=\"font-style: italic;\" >&lt;float64&gt;</td>\n",
       "    </tr>\n",
       "    <tr>\n",
       "      <th>0</th>\n",
       "      <td>1</td>\n",
       "      <td>0.244611</td>\n",
       "      <td>0.525006</td>\n",
       "    </tr>\n",
       "    <tr>\n",
       "      <th>1</th>\n",
       "      <td>1</td>\n",
       "      <td>0.805402</td>\n",
       "      <td>0.525006</td>\n",
       "    </tr>\n",
       "    <tr>\n",
       "      <th>2</th>\n",
       "      <td>2</td>\n",
       "      <td>0.862707</td>\n",
       "      <td>0.829213</td>\n",
       "    </tr>\n",
       "    <tr>\n",
       "      <th>3</th>\n",
       "      <td>2</td>\n",
       "      <td>0.795719</td>\n",
       "      <td>0.829213</td>\n",
       "    </tr>\n",
       "    <tr>\n",
       "      <th>4</th>\n",
       "      <td>3</td>\n",
       "      <td>0.812910</td>\n",
       "      <td>0.812910</td>\n",
       "    </tr>\n",
       "  </tbody>\n",
       "</table>\n",
       "</div>\n",
       "<p>TibbleGrouped: g (n=3)"
      ],
      "text/plain": [
       "        g         x    x_mean\n",
       "  <int64> <float64> <float64>\n",
       "0       1  0.244611  0.525006\n",
       "1       1  0.805402  0.525006\n",
       "2       2  0.862707  0.829213\n",
       "3       2  0.795719  0.829213\n",
       "4       3  0.812910  0.812910\n",
       "[TibbleGrouped: g (n=3)]"
      ]
     },
     "execution_count": 2,
     "metadata": {},
     "output_type": "execute_result"
    }
   ],
   "source": [
    "df = tibble(g=c(1, 1, 2, 2, 3), x=runif(5))\n",
    "df >> with_groups(f.g, mutate, x_mean = mean(f.x)) "
   ]
  },
  {
   "cell_type": "code",
   "execution_count": 3,
   "id": "65133081",
   "metadata": {
    "execution": {
     "iopub.execute_input": "2021-07-16T22:27:25.407736Z",
     "iopub.status.busy": "2021-07-16T22:27:25.407070Z",
     "iopub.status.idle": "2021-07-16T22:27:25.456650Z",
     "shell.execute_reply": "2021-07-16T22:27:25.457055Z"
    }
   },
   "outputs": [
    {
     "data": {
      "text/html": [
       "<div>\n",
       "<style scoped>\n",
       "    .dataframe tbody tr th:only-of-type {\n",
       "        vertical-align: middle;\n",
       "    }\n",
       "\n",
       "    .dataframe tbody tr th {\n",
       "        vertical-align: top;\n",
       "    }\n",
       "\n",
       "    .dataframe thead th {\n",
       "        text-align: right;\n",
       "    }\n",
       "</style>\n",
       "<table border=\"1\" class=\"dataframe\">\n",
       "  <thead>\n",
       "    <tr style=\"text-align: right;\">\n",
       "      <th></th>\n",
       "      <th>g</th>\n",
       "      <th>x</th>\n",
       "      <th>x1</th>\n",
       "    </tr>\n",
       "  </thead>\n",
       "  <tbody>\n",
       "    <tr>\n",
       "      <th style=\"font-style: italic;\" ></th>\n",
       "      <td style=\"font-style: italic;\" >&lt;int64&gt;</td>\n",
       "      <td style=\"font-style: italic;\" >&lt;float64&gt;</td>\n",
       "      <td style=\"font-style: italic;\" >&lt;float64&gt;</td>\n",
       "    </tr>\n",
       "    <tr>\n",
       "      <th>0</th>\n",
       "      <td>1</td>\n",
       "      <td>0.244611</td>\n",
       "      <td>0.244611</td>\n",
       "    </tr>\n",
       "    <tr>\n",
       "      <th>1</th>\n",
       "      <td>1</td>\n",
       "      <td>0.805402</td>\n",
       "      <td>0.244611</td>\n",
       "    </tr>\n",
       "    <tr>\n",
       "      <th>2</th>\n",
       "      <td>2</td>\n",
       "      <td>0.862707</td>\n",
       "      <td>0.862707</td>\n",
       "    </tr>\n",
       "    <tr>\n",
       "      <th>3</th>\n",
       "      <td>2</td>\n",
       "      <td>0.795719</td>\n",
       "      <td>0.862707</td>\n",
       "    </tr>\n",
       "    <tr>\n",
       "      <th>4</th>\n",
       "      <td>3</td>\n",
       "      <td>0.812910</td>\n",
       "      <td>0.812910</td>\n",
       "    </tr>\n",
       "  </tbody>\n",
       "</table>\n",
       "</div>\n",
       "<p>TibbleGrouped: g (n=3)"
      ],
      "text/plain": [
       "        g         x        x1\n",
       "  <int64> <float64> <float64>\n",
       "0       1  0.244611  0.244611\n",
       "1       1  0.805402  0.244611\n",
       "2       2  0.862707  0.862707\n",
       "3       2  0.795719  0.862707\n",
       "4       3  0.812910  0.812910\n",
       "[TibbleGrouped: g (n=3)]"
      ]
     },
     "execution_count": 3,
     "metadata": {},
     "output_type": "execute_result"
    }
   ],
   "source": [
    "df >> with_groups(f.g, lambda df: df >> mutate(x1 = first(f.x))) "
   ]
  },
  {
   "cell_type": "code",
   "execution_count": 4,
   "id": "1c9e8a12",
   "metadata": {
    "execution": {
     "iopub.execute_input": "2021-07-16T22:27:25.523727Z",
     "iopub.status.busy": "2021-07-16T22:27:25.522838Z",
     "iopub.status.idle": "2021-07-16T22:27:25.804228Z",
     "shell.execute_reply": "2021-07-16T22:27:25.806102Z"
    }
   },
   "outputs": [
    {
     "data": {
      "text/html": [
       "<div>\n",
       "<style scoped>\n",
       "    .dataframe tbody tr th:only-of-type {\n",
       "        vertical-align: middle;\n",
       "    }\n",
       "\n",
       "    .dataframe tbody tr th {\n",
       "        vertical-align: top;\n",
       "    }\n",
       "\n",
       "    .dataframe thead th {\n",
       "        text-align: right;\n",
       "    }\n",
       "</style>\n",
       "<table border=\"1\" class=\"dataframe\">\n",
       "  <thead>\n",
       "    <tr style=\"text-align: right;\">\n",
       "      <th></th>\n",
       "      <th>g</th>\n",
       "      <th>x</th>\n",
       "      <th>x_mean</th>\n",
       "    </tr>\n",
       "  </thead>\n",
       "  <tbody>\n",
       "    <tr>\n",
       "      <th style=\"font-style: italic;\" ></th>\n",
       "      <td style=\"font-style: italic;\" >&lt;int64&gt;</td>\n",
       "      <td style=\"font-style: italic;\" >&lt;float64&gt;</td>\n",
       "      <td style=\"font-style: italic;\" >&lt;float64&gt;</td>\n",
       "    </tr>\n",
       "    <tr>\n",
       "      <th>0</th>\n",
       "      <td>1</td>\n",
       "      <td>0.244611</td>\n",
       "      <td>0.70427</td>\n",
       "    </tr>\n",
       "    <tr>\n",
       "      <th>1</th>\n",
       "      <td>1</td>\n",
       "      <td>0.805402</td>\n",
       "      <td>0.70427</td>\n",
       "    </tr>\n",
       "    <tr>\n",
       "      <th>2</th>\n",
       "      <td>2</td>\n",
       "      <td>0.862707</td>\n",
       "      <td>0.70427</td>\n",
       "    </tr>\n",
       "    <tr>\n",
       "      <th>3</th>\n",
       "      <td>2</td>\n",
       "      <td>0.795719</td>\n",
       "      <td>0.70427</td>\n",
       "    </tr>\n",
       "    <tr>\n",
       "      <th>4</th>\n",
       "      <td>3</td>\n",
       "      <td>0.812910</td>\n",
       "      <td>0.70427</td>\n",
       "    </tr>\n",
       "  </tbody>\n",
       "</table>\n",
       "</div>\n"
      ],
      "text/plain": [
       "        g         x    x_mean\n",
       "  <int64> <float64> <float64>\n",
       "0       1  0.244611   0.70427\n",
       "1       1  0.805402   0.70427\n",
       "2       2  0.862707   0.70427\n",
       "3       2  0.795719   0.70427\n",
       "4       3  0.812910   0.70427"
      ]
     },
     "execution_count": 4,
     "metadata": {},
     "output_type": "execute_result"
    }
   ],
   "source": [
    "df >> \\\n",
    "  group_by(f.g) >> \\\n",
    "  with_groups(None, mutate, x_mean = mean(f.x))"
   ]
  },
  {
   "cell_type": "code",
   "execution_count": 5,
   "id": "ec8f5fe0",
   "metadata": {
    "execution": {
     "iopub.execute_input": "2021-07-16T22:27:25.983097Z",
     "iopub.status.busy": "2021-07-16T22:27:25.982377Z",
     "iopub.status.idle": "2021-07-16T22:27:26.253418Z",
     "shell.execute_reply": "2021-07-16T22:27:26.253859Z"
    }
   },
   "outputs": [
    {
     "data": {
      "text/html": [
       "<div>\n",
       "<style scoped>\n",
       "    .dataframe tbody tr th:only-of-type {\n",
       "        vertical-align: middle;\n",
       "    }\n",
       "\n",
       "    .dataframe tbody tr th {\n",
       "        vertical-align: top;\n",
       "    }\n",
       "\n",
       "    .dataframe thead th {\n",
       "        text-align: right;\n",
       "    }\n",
       "</style>\n",
       "<table border=\"1\" class=\"dataframe\">\n",
       "  <thead>\n",
       "    <tr style=\"text-align: right;\">\n",
       "      <th></th>\n",
       "      <th>x</th>\n",
       "    </tr>\n",
       "  </thead>\n",
       "  <tbody>\n",
       "    <tr>\n",
       "      <th style=\"font-style: italic;\" ></th>\n",
       "      <td style=\"font-style: italic;\" >&lt;float64&gt;</td>\n",
       "    </tr>\n",
       "    <tr>\n",
       "      <th>0</th>\n",
       "      <td>0.244611</td>\n",
       "    </tr>\n",
       "    <tr>\n",
       "      <th>1</th>\n",
       "      <td>0.805402</td>\n",
       "    </tr>\n",
       "    <tr>\n",
       "      <th>2</th>\n",
       "      <td>0.862707</td>\n",
       "    </tr>\n",
       "    <tr>\n",
       "      <th>3</th>\n",
       "      <td>0.795719</td>\n",
       "    </tr>\n",
       "    <tr>\n",
       "      <th>4</th>\n",
       "      <td>0.812910</td>\n",
       "    </tr>\n",
       "  </tbody>\n",
       "</table>\n",
       "</div>\n"
      ],
      "text/plain": [
       "          x\n",
       "  <float64>\n",
       "0  0.244611\n",
       "1  0.805402\n",
       "2  0.862707\n",
       "3  0.795719\n",
       "4  0.812910"
      ]
     },
     "execution_count": 5,
     "metadata": {},
     "output_type": "execute_result"
    }
   ],
   "source": [
    "df >> \\\n",
    "  group_by(f.g) >> \\\n",
    "  with_groups(None, mutate, g=None)"
   ]
  }
 ],
 "metadata": {
  "kernelspec": {
   "display_name": "Python 3.9.5 ('base')",
   "language": "python",
   "name": "python3"
  },
  "language_info": {
   "codemirror_mode": {
    "name": "ipython",
    "version": 3
   },
   "file_extension": ".py",
   "mimetype": "text/x-python",
   "name": "python",
   "nbconvert_exporter": "python",
   "pygments_lexer": "ipython3",
   "version": "3.9.5"
  },
  "vscode": {
   "interpreter": {
    "hash": "9ed5c94d10bf621c6841991b7e31ffd0f3c8de8ec4167710459737a50edc58e4"
   }
  }
 },
 "nbformat": 4,
 "nbformat_minor": 5
}
