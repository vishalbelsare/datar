{
 "cells": [
  {
   "cell_type": "code",
   "execution_count": 1,
   "metadata": {
    "execution": {
     "iopub.execute_input": "2021-07-16T22:28:10.915581Z",
     "iopub.status.busy": "2021-07-16T22:28:10.913314Z",
     "iopub.status.idle": "2021-07-16T22:28:11.982697Z",
     "shell.execute_reply": "2021-07-16T22:28:11.983123Z"
    }
   },
   "outputs": [
    {
     "data": {
      "text/html": [
       "<div style=\"text-align: right; text-style: italic\">Try this notebook on <a target=\"_blank\" href=\"https://mybinder.org/v2/gh/pwwang/datar/dev?filepath=docs%2Fnotebooks%2Frows.ipynb\">binder</a>.</div>"
      ],
      "text/plain": [
       "<IPython.core.display.HTML object>"
      ]
     },
     "metadata": {},
     "output_type": "display_data"
    },
    {
     "data": {
      "text/markdown": [
       "### <div style=\"background-color: #EEE; padding: 5px 0 8px 0\">★ rows_insert</div>"
      ],
      "text/plain": [
       "<IPython.core.display.Markdown object>"
      ]
     },
     "metadata": {},
     "output_type": "display_data"
    },
    {
     "data": {
      "text/markdown": [
       "##### Insert rows from y into x\n",
       "\n",
       "See original API  \n",
       "https://dplyr.tidyverse.org/reference/rows.html  \n",
       "\n",
       "##### Args:\n",
       "&emsp;&emsp;`x`: A data frame  \n",
       "&emsp;&emsp;`y`: A data frame  \n",
       "&emsp;&emsp;`by`: An unnamed character vector giving the key columns.  \n",
       "&emsp;&emsp;&emsp;&emsp;The key columns must exist in both x and y.  \n",
       "&emsp;&emsp;&emsp;&emsp;Keys typically uniquely identify each row, but this is only  \n",
       "&emsp;&emsp;&emsp;&emsp;enforced for the key values of y  \n",
       "&emsp;&emsp;&emsp;&emsp;By default, we use the first column in y, since the first column is  \n",
       "&emsp;&emsp;&emsp;&emsp;a reasonable place to put an identifier variable.  \n",
       "\n",
       "&emsp;&emsp;`conflict`: How to handle conflicts  \n",
       "&emsp;&emsp;&emsp;&emsp;- \"error\": Throw an error\n",
       "\n",
       "&emsp;&emsp;&emsp;&emsp;- \"ignore\": Ignore conflicts\n",
       "\n",
       "&emsp;&emsp;`copy`: If x and y are not from the same data source, and copy is TRUE,  \n",
       "&emsp;&emsp;&emsp;&emsp;then y will be copied into the same src as x.  \n",
       "&emsp;&emsp;&emsp;&emsp;This allows you to join tables across srcs, but it is a potentially  \n",
       "&emsp;&emsp;&emsp;&emsp;expensive operation so you must opt into it.  \n",
       "\n",
       "&emsp;&emsp;`in_place`: Should x be modified in place?  \n",
       "&emsp;&emsp;&emsp;&emsp;This may not be supported, depending on the backend implementation.  \n",
       "\n",
       "##### Returns:\n",
       "&emsp;&emsp;A data frame with all existing rows and potentially new rows  \n"
      ],
      "text/plain": [
       "<IPython.core.display.Markdown object>"
      ]
     },
     "metadata": {},
     "output_type": "display_data"
    },
    {
     "data": {
      "text/markdown": [
       "### <div style=\"background-color: #EEE; padding: 5px 0 8px 0\">★ rows_update</div>"
      ],
      "text/plain": [
       "<IPython.core.display.Markdown object>"
      ]
     },
     "metadata": {},
     "output_type": "display_data"
    },
    {
     "data": {
      "text/markdown": [
       "##### Update rows in x with values from y\n",
       "\n",
       "See original API  \n",
       "https://dplyr.tidyverse.org/reference/rows.html  \n",
       "\n",
       "##### Args:\n",
       "&emsp;&emsp;`x`: A data frame  \n",
       "&emsp;&emsp;`y`: A data frame  \n",
       "&emsp;&emsp;`by`: An unnamed character vector giving the key columns.  \n",
       "&emsp;&emsp;&emsp;&emsp;The key columns must exist in both x and y.  \n",
       "&emsp;&emsp;&emsp;&emsp;Keys typically uniquely identify each row, but this is only  \n",
       "&emsp;&emsp;&emsp;&emsp;enforced for the key values of y  \n",
       "&emsp;&emsp;&emsp;&emsp;By default, we use the first column in y, since the first column is  \n",
       "&emsp;&emsp;&emsp;&emsp;a reasonable place to put an identifier variable.  \n",
       "\n",
       "&emsp;&emsp;`unmatched`: how should keys in y that are unmatched by the keys  \n",
       "&emsp;&emsp;&emsp;&emsp;in x be handled?  \n",
       "&emsp;&emsp;&emsp;&emsp;One of -  \n",
       "&emsp;&emsp;&emsp;&emsp;\"error\", the default, will error if there are any keys in y that  \n",
       "&emsp;&emsp;&emsp;&emsp;are unmatched by the keys in x.  \n",
       "&emsp;&emsp;&emsp;&emsp;\"ignore\" will ignore rows in y with keys that are unmatched  \n",
       "&emsp;&emsp;&emsp;&emsp;by the keys in x.  \n",
       "\n",
       "&emsp;&emsp;`copy`: If x and y are not from the same data source, and copy is TRUE,  \n",
       "&emsp;&emsp;&emsp;&emsp;then y will be copied into the same src as x.  \n",
       "&emsp;&emsp;&emsp;&emsp;This allows you to join tables across srcs, but it is a potentially  \n",
       "&emsp;&emsp;&emsp;&emsp;expensive operation so you must opt into it.  \n",
       "\n",
       "&emsp;&emsp;`in_place`: Should x be modified in place?  \n",
       "&emsp;&emsp;&emsp;&emsp;This may not be supported, depending on the backend implementation.  \n",
       "\n",
       "##### Returns:\n",
       "&emsp;&emsp;A data frame with all existing rows and potentially new rows  \n"
      ],
      "text/plain": [
       "<IPython.core.display.Markdown object>"
      ]
     },
     "metadata": {},
     "output_type": "display_data"
    },
    {
     "data": {
      "text/markdown": [
       "### <div style=\"background-color: #EEE; padding: 5px 0 8px 0\">★ rows_patch</div>"
      ],
      "text/plain": [
       "<IPython.core.display.Markdown object>"
      ]
     },
     "metadata": {},
     "output_type": "display_data"
    },
    {
     "data": {
      "text/markdown": [
       "##### Patch rows in x with values from y\n",
       "\n",
       "See original API  \n",
       "https://dplyr.tidyverse.org/reference/rows.html  \n",
       "\n",
       "##### Args:\n",
       "&emsp;&emsp;`x`: A data frame  \n",
       "&emsp;&emsp;`y`: A data frame  \n",
       "&emsp;&emsp;`by`: An unnamed character vector giving the key columns.  \n",
       "&emsp;&emsp;&emsp;&emsp;The key columns must exist in both x and y.  \n",
       "&emsp;&emsp;&emsp;&emsp;Keys typically uniquely identify each row, but this is only  \n",
       "&emsp;&emsp;&emsp;&emsp;enforced for the key values of y  \n",
       "&emsp;&emsp;&emsp;&emsp;By default, we use the first column in y, since the first column is  \n",
       "&emsp;&emsp;&emsp;&emsp;a reasonable place to put an identifier variable.  \n",
       "\n",
       "&emsp;&emsp;`unmatched`: how should keys in y that are unmatched by the keys  \n",
       "&emsp;&emsp;&emsp;&emsp;in x be handled?  \n",
       "&emsp;&emsp;&emsp;&emsp;One of -  \n",
       "&emsp;&emsp;&emsp;&emsp;\"error\", the default, will error if there are any keys in y that  \n",
       "&emsp;&emsp;&emsp;&emsp;are unmatched by the keys in x.  \n",
       "&emsp;&emsp;&emsp;&emsp;\"ignore\" will ignore rows in y with keys that are unmatched  \n",
       "&emsp;&emsp;&emsp;&emsp;by the keys in x.  \n",
       "\n",
       "&emsp;&emsp;`copy`: If x and y are not from the same data source, and copy is TRUE,  \n",
       "&emsp;&emsp;&emsp;&emsp;then y will be copied into the same src as x.  \n",
       "&emsp;&emsp;&emsp;&emsp;This allows you to join tables across srcs, but it is a potentially  \n",
       "&emsp;&emsp;&emsp;&emsp;expensive operation so you must opt into it.  \n",
       "\n",
       "&emsp;&emsp;`in_place`: Should x be modified in place?  \n",
       "&emsp;&emsp;&emsp;&emsp;This may not be supported, depending on the backend implementation.  \n",
       "\n",
       "##### Returns:\n",
       "&emsp;&emsp;A data frame with NA values overwritten and the number of rows preserved  \n"
      ],
      "text/plain": [
       "<IPython.core.display.Markdown object>"
      ]
     },
     "metadata": {},
     "output_type": "display_data"
    },
    {
     "data": {
      "text/markdown": [
       "### <div style=\"background-color: #EEE; padding: 5px 0 8px 0\">★ rows_upsert</div>"
      ],
      "text/plain": [
       "<IPython.core.display.Markdown object>"
      ]
     },
     "metadata": {},
     "output_type": "display_data"
    },
    {
     "data": {
      "text/markdown": [
       "##### Upsert rows in x with values from y\n",
       "\n",
       "See original API  \n",
       "https://dplyr.tidyverse.org/reference/rows.html  \n",
       "\n",
       "##### Args:\n",
       "&emsp;&emsp;`x`: A data frame  \n",
       "&emsp;&emsp;`y`: A data frame  \n",
       "&emsp;&emsp;`by`: An unnamed character vector giving the key columns.  \n",
       "&emsp;&emsp;&emsp;&emsp;The key columns must exist in both x and y.  \n",
       "&emsp;&emsp;&emsp;&emsp;Keys typically uniquely identify each row, but this is only  \n",
       "&emsp;&emsp;&emsp;&emsp;enforced for the key values of y  \n",
       "&emsp;&emsp;&emsp;&emsp;By default, we use the first column in y, since the first column is  \n",
       "&emsp;&emsp;&emsp;&emsp;a reasonable place to put an identifier variable.  \n",
       "\n",
       "&emsp;&emsp;`copy`: If x and y are not from the same data source, and copy is TRUE,  \n",
       "&emsp;&emsp;&emsp;&emsp;then y will be copied into the same src as x.  \n",
       "&emsp;&emsp;&emsp;&emsp;This allows you to join tables across srcs, but it is a potentially  \n",
       "&emsp;&emsp;&emsp;&emsp;expensive operation so you must opt into it.  \n",
       "\n",
       "&emsp;&emsp;`in_place`: Should x be modified in place?  \n",
       "&emsp;&emsp;&emsp;&emsp;This may not be supported, depending on the backend implementation.  \n",
       "\n",
       "##### Returns:\n",
       "&emsp;&emsp;A data frame with inserted or updated depending on whether or not  \n",
       "&emsp;&emsp;the key value in y already exists in x. Key values in y must be unique.  \n"
      ],
      "text/plain": [
       "<IPython.core.display.Markdown object>"
      ]
     },
     "metadata": {},
     "output_type": "display_data"
    },
    {
     "data": {
      "text/markdown": [
       "### <div style=\"background-color: #EEE; padding: 5px 0 8px 0\">★ rows_delete</div>"
      ],
      "text/plain": [
       "<IPython.core.display.Markdown object>"
      ]
     },
     "metadata": {},
     "output_type": "display_data"
    },
    {
     "data": {
      "text/markdown": [
       "##### Delete rows in x that match keys in y\n",
       "\n",
       "See original API  \n",
       "https://dplyr.tidyverse.org/reference/rows.html  \n",
       "\n",
       "##### Args:\n",
       "&emsp;&emsp;`x`: A data frame  \n",
       "&emsp;&emsp;`y`: A data frame  \n",
       "&emsp;&emsp;`by`: An unnamed character vector giving the key columns.  \n",
       "&emsp;&emsp;&emsp;&emsp;The key columns must exist in both x and y.  \n",
       "&emsp;&emsp;&emsp;&emsp;Keys typically uniquely identify each row, but this is only  \n",
       "&emsp;&emsp;&emsp;&emsp;enforced for the key values of y  \n",
       "&emsp;&emsp;&emsp;&emsp;By default, we use the first column in y, since the first column is  \n",
       "&emsp;&emsp;&emsp;&emsp;a reasonable place to put an identifier variable.  \n",
       "\n",
       "&emsp;&emsp;`unmatched`: how should keys in y that are unmatched by the keys  \n",
       "&emsp;&emsp;&emsp;&emsp;in x be handled?  \n",
       "&emsp;&emsp;&emsp;&emsp;One of -  \n",
       "&emsp;&emsp;&emsp;&emsp;\"error\", the default, will error if there are any keys in y that  \n",
       "&emsp;&emsp;&emsp;&emsp;are unmatched by the keys in x.  \n",
       "&emsp;&emsp;&emsp;&emsp;\"ignore\" will ignore rows in y with keys that are unmatched  \n",
       "&emsp;&emsp;&emsp;&emsp;by the keys in x.  \n",
       "\n",
       "&emsp;&emsp;`copy`: If x and y are not from the same data source, and copy is TRUE,  \n",
       "&emsp;&emsp;&emsp;&emsp;then y will be copied into the same src as x.  \n",
       "&emsp;&emsp;&emsp;&emsp;This allows you to join tables across srcs, but it is a potentially  \n",
       "&emsp;&emsp;&emsp;&emsp;expensive operation so you must opt into it.  \n",
       "\n",
       "&emsp;&emsp;`in_place`: Should x be modified in place?  \n",
       "&emsp;&emsp;&emsp;&emsp;This may not be supported, depending on the backend implementation.  \n",
       "\n",
       "##### Returns:\n",
       "&emsp;&emsp;A data frame with rows deleted  \n"
      ],
      "text/plain": [
       "<IPython.core.display.Markdown object>"
      ]
     },
     "metadata": {},
     "output_type": "display_data"
    }
   ],
   "source": [
    "%run nb_helpers.py\n",
    "from datar.all import *\n",
    "\n",
    "nb_header(\n",
    "    rows_insert, \n",
    "    rows_update, \n",
    "    rows_patch, \n",
    "    rows_upsert, \n",
    "    rows_delete, \n",
    "    book='rows'\n",
    ")"
   ]
  },
  {
   "cell_type": "code",
   "execution_count": 2,
   "metadata": {
    "execution": {
     "iopub.execute_input": "2021-07-16T22:28:11.999613Z",
     "iopub.status.busy": "2021-07-16T22:28:11.998991Z",
     "iopub.status.idle": "2021-07-16T22:28:12.347691Z",
     "shell.execute_reply": "2021-07-16T22:28:12.348096Z"
    }
   },
   "outputs": [
    {
     "data": {
      "text/html": [
       "<div>\n",
       "<style scoped>\n",
       "    .dataframe tbody tr th:only-of-type {\n",
       "        vertical-align: middle;\n",
       "    }\n",
       "\n",
       "    .dataframe tbody tr th {\n",
       "        vertical-align: top;\n",
       "    }\n",
       "\n",
       "    .dataframe thead th {\n",
       "        text-align: right;\n",
       "    }\n",
       "</style>\n",
       "<table border=\"1\" class=\"dataframe\">\n",
       "  <thead>\n",
       "    <tr style=\"text-align: right;\">\n",
       "      <th></th>\n",
       "      <th>a</th>\n",
       "      <th>b</th>\n",
       "      <th>c</th>\n",
       "    </tr>\n",
       "  </thead>\n",
       "  <tbody>\n",
       "    <tr>\n",
       "      <th style=\"font-style: italic;\" ></th>\n",
       "      <td style=\"font-style: italic;\" >&lt;int64&gt;</td>\n",
       "      <td style=\"font-style: italic;\" >&lt;object&gt;</td>\n",
       "      <td style=\"font-style: italic;\" >&lt;float64&gt;</td>\n",
       "    </tr>\n",
       "    <tr>\n",
       "      <th>0</th>\n",
       "      <td>1</td>\n",
       "      <td>a</td>\n",
       "      <td>0.5</td>\n",
       "    </tr>\n",
       "    <tr>\n",
       "      <th>1</th>\n",
       "      <td>2</td>\n",
       "      <td>b</td>\n",
       "      <td>1.5</td>\n",
       "    </tr>\n",
       "    <tr>\n",
       "      <th>2</th>\n",
       "      <td>3</td>\n",
       "      <td>NaN</td>\n",
       "      <td>2.5</td>\n",
       "    </tr>\n",
       "  </tbody>\n",
       "</table>\n",
       "</div>\n"
      ],
      "text/plain": [
       "        a        b         c\n",
       "  <int64> <object> <float64>\n",
       "0       1        a       0.5\n",
       "1       2        b       1.5\n",
       "2       3      NaN       2.5"
      ]
     },
     "execution_count": 2,
     "metadata": {},
     "output_type": "execute_result"
    }
   ],
   "source": [
    "data = tibble(a = seq(1, 3), b = c(letters[[0, 1]], NA), c = [.5, 1.5, 2.5])\n",
    "data"
   ]
  },
  {
   "cell_type": "code",
   "execution_count": 3,
   "metadata": {
    "execution": {
     "iopub.execute_input": "2021-07-16T22:28:12.450878Z",
     "iopub.status.busy": "2021-07-16T22:28:12.449990Z",
     "iopub.status.idle": "2021-07-16T22:28:12.756575Z",
     "shell.execute_reply": "2021-07-16T22:28:12.757071Z"
    }
   },
   "outputs": [
    {
     "name": "stderr",
     "output_type": "stream",
     "text": [
      "[2022-12-02 14:22:14][datar][   INFO] Matching, by='a'\n"
     ]
    },
    {
     "data": {
      "text/html": [
       "<div>\n",
       "<style scoped>\n",
       "    .dataframe tbody tr th:only-of-type {\n",
       "        vertical-align: middle;\n",
       "    }\n",
       "\n",
       "    .dataframe tbody tr th {\n",
       "        vertical-align: top;\n",
       "    }\n",
       "\n",
       "    .dataframe thead th {\n",
       "        text-align: right;\n",
       "    }\n",
       "</style>\n",
       "<table border=\"1\" class=\"dataframe\">\n",
       "  <thead>\n",
       "    <tr style=\"text-align: right;\">\n",
       "      <th></th>\n",
       "      <th>a</th>\n",
       "      <th>b</th>\n",
       "      <th>c</th>\n",
       "    </tr>\n",
       "  </thead>\n",
       "  <tbody>\n",
       "    <tr>\n",
       "      <th style=\"font-style: italic;\" ></th>\n",
       "      <td style=\"font-style: italic;\" >&lt;int64&gt;</td>\n",
       "      <td style=\"font-style: italic;\" >&lt;object&gt;</td>\n",
       "      <td style=\"font-style: italic;\" >&lt;float64&gt;</td>\n",
       "    </tr>\n",
       "    <tr>\n",
       "      <th>0</th>\n",
       "      <td>1</td>\n",
       "      <td>a</td>\n",
       "      <td>0.5</td>\n",
       "    </tr>\n",
       "    <tr>\n",
       "      <th>1</th>\n",
       "      <td>2</td>\n",
       "      <td>b</td>\n",
       "      <td>1.5</td>\n",
       "    </tr>\n",
       "    <tr>\n",
       "      <th>2</th>\n",
       "      <td>3</td>\n",
       "      <td>NaN</td>\n",
       "      <td>2.5</td>\n",
       "    </tr>\n",
       "    <tr>\n",
       "      <th>3</th>\n",
       "      <td>4</td>\n",
       "      <td>z</td>\n",
       "      <td>NaN</td>\n",
       "    </tr>\n",
       "  </tbody>\n",
       "</table>\n",
       "</div>\n"
      ],
      "text/plain": [
       "        a        b         c\n",
       "  <int64> <object> <float64>\n",
       "0       1        a       0.5\n",
       "1       2        b       1.5\n",
       "2       3      NaN       2.5\n",
       "3       4        z       NaN"
      ]
     },
     "execution_count": 3,
     "metadata": {},
     "output_type": "execute_result"
    }
   ],
   "source": [
    "rows_insert(data, tibble(a = 4, b = \"z\"))"
   ]
  },
  {
   "cell_type": "code",
   "execution_count": 4,
   "metadata": {
    "execution": {
     "iopub.execute_input": "2021-07-16T22:28:12.778078Z",
     "iopub.status.busy": "2021-07-16T22:28:12.776324Z",
     "iopub.status.idle": "2021-07-16T22:28:12.809105Z",
     "shell.execute_reply": "2021-07-16T22:28:12.809525Z"
    }
   },
   "outputs": [
    {
     "name": "stderr",
     "output_type": "stream",
     "text": [
      "[2022-12-02 14:22:14][datar][   INFO] Matching, by='a'\n"
     ]
    },
    {
     "name": "stdout",
     "output_type": "stream",
     "text": [
      "[ValueError] Attempting to insert duplicate rows.\n"
     ]
    }
   ],
   "source": [
    "with try_catch():\n",
    "    rows_insert(data, tibble(a = 3, b = \"z\"))"
   ]
  },
  {
   "cell_type": "code",
   "execution_count": 5,
   "metadata": {
    "execution": {
     "iopub.execute_input": "2021-07-16T22:28:12.849701Z",
     "iopub.status.busy": "2021-07-16T22:28:12.849124Z",
     "iopub.status.idle": "2021-07-16T22:28:12.882173Z",
     "shell.execute_reply": "2021-07-16T22:28:12.882617Z"
    }
   },
   "outputs": [
    {
     "name": "stderr",
     "output_type": "stream",
     "text": [
      "[2022-12-02 14:22:15][datar][   INFO] Matching, by='a'\n"
     ]
    },
    {
     "data": {
      "text/html": [
       "<div>\n",
       "<style scoped>\n",
       "    .dataframe tbody tr th:only-of-type {\n",
       "        vertical-align: middle;\n",
       "    }\n",
       "\n",
       "    .dataframe tbody tr th {\n",
       "        vertical-align: top;\n",
       "    }\n",
       "\n",
       "    .dataframe thead th {\n",
       "        text-align: right;\n",
       "    }\n",
       "</style>\n",
       "<table border=\"1\" class=\"dataframe\">\n",
       "  <thead>\n",
       "    <tr style=\"text-align: right;\">\n",
       "      <th></th>\n",
       "      <th>a</th>\n",
       "      <th>b</th>\n",
       "      <th>c</th>\n",
       "    </tr>\n",
       "  </thead>\n",
       "  <tbody>\n",
       "    <tr>\n",
       "      <th style=\"font-style: italic;\" ></th>\n",
       "      <td style=\"font-style: italic;\" >&lt;int64&gt;</td>\n",
       "      <td style=\"font-style: italic;\" >&lt;object&gt;</td>\n",
       "      <td style=\"font-style: italic;\" >&lt;float64&gt;</td>\n",
       "    </tr>\n",
       "    <tr>\n",
       "      <th>0</th>\n",
       "      <td>1</td>\n",
       "      <td>a</td>\n",
       "      <td>0.5</td>\n",
       "    </tr>\n",
       "    <tr>\n",
       "      <th>1</th>\n",
       "      <td>2</td>\n",
       "      <td>z</td>\n",
       "      <td>1.5</td>\n",
       "    </tr>\n",
       "    <tr>\n",
       "      <th>2</th>\n",
       "      <td>3</td>\n",
       "      <td>z</td>\n",
       "      <td>2.5</td>\n",
       "    </tr>\n",
       "  </tbody>\n",
       "</table>\n",
       "</div>\n"
      ],
      "text/plain": [
       "        a        b         c\n",
       "  <int64> <object> <float64>\n",
       "0       1        a       0.5\n",
       "1       2        z       1.5\n",
       "2       3        z       2.5"
      ]
     },
     "execution_count": 5,
     "metadata": {},
     "output_type": "execute_result"
    }
   ],
   "source": [
    "rows_update(data, tibble(a = [2,3], b = \"z\"))"
   ]
  },
  {
   "cell_type": "code",
   "execution_count": 6,
   "metadata": {
    "execution": {
     "iopub.execute_input": "2021-07-16T22:28:12.939586Z",
     "iopub.status.busy": "2021-07-16T22:28:12.939002Z",
     "iopub.status.idle": "2021-07-16T22:28:12.954290Z",
     "shell.execute_reply": "2021-07-16T22:28:12.954712Z"
    }
   },
   "outputs": [
    {
     "data": {
      "text/html": [
       "<div>\n",
       "<style scoped>\n",
       "    .dataframe tbody tr th:only-of-type {\n",
       "        vertical-align: middle;\n",
       "    }\n",
       "\n",
       "    .dataframe tbody tr th {\n",
       "        vertical-align: top;\n",
       "    }\n",
       "\n",
       "    .dataframe thead th {\n",
       "        text-align: right;\n",
       "    }\n",
       "</style>\n",
       "<table border=\"1\" class=\"dataframe\">\n",
       "  <thead>\n",
       "    <tr style=\"text-align: right;\">\n",
       "      <th></th>\n",
       "      <th>a</th>\n",
       "      <th>b</th>\n",
       "      <th>c</th>\n",
       "    </tr>\n",
       "  </thead>\n",
       "  <tbody>\n",
       "    <tr>\n",
       "      <th style=\"font-style: italic;\" ></th>\n",
       "      <td style=\"font-style: italic;\" >&lt;int64&gt;</td>\n",
       "      <td style=\"font-style: italic;\" >&lt;object&gt;</td>\n",
       "      <td style=\"font-style: italic;\" >&lt;float64&gt;</td>\n",
       "    </tr>\n",
       "    <tr>\n",
       "      <th>0</th>\n",
       "      <td>1</td>\n",
       "      <td>a</td>\n",
       "      <td>0.5</td>\n",
       "    </tr>\n",
       "    <tr>\n",
       "      <th>1</th>\n",
       "      <td>2</td>\n",
       "      <td>z</td>\n",
       "      <td>1.5</td>\n",
       "    </tr>\n",
       "    <tr>\n",
       "      <th>2</th>\n",
       "      <td>3</td>\n",
       "      <td>z</td>\n",
       "      <td>2.5</td>\n",
       "    </tr>\n",
       "  </tbody>\n",
       "</table>\n",
       "</div>\n"
      ],
      "text/plain": [
       "        a        b         c\n",
       "  <int64> <object> <float64>\n",
       "0       1        a       0.5\n",
       "1       2        z       1.5\n",
       "2       3        z       2.5"
      ]
     },
     "execution_count": 6,
     "metadata": {},
     "output_type": "execute_result"
    }
   ],
   "source": [
    "rows_update(data, tibble(b = \"z\", a = [2,3]), by = \"a\")"
   ]
  },
  {
   "cell_type": "code",
   "execution_count": 7,
   "metadata": {
    "execution": {
     "iopub.execute_input": "2021-07-16T22:28:12.990975Z",
     "iopub.status.busy": "2021-07-16T22:28:12.990382Z",
     "iopub.status.idle": "2021-07-16T22:28:13.079359Z",
     "shell.execute_reply": "2021-07-16T22:28:13.080018Z"
    }
   },
   "outputs": [
    {
     "name": "stderr",
     "output_type": "stream",
     "text": [
      "[2022-12-02 14:22:17][datar][   INFO] Matching, by='a'\n"
     ]
    },
    {
     "data": {
      "text/html": [
       "<div>\n",
       "<style scoped>\n",
       "    .dataframe tbody tr th:only-of-type {\n",
       "        vertical-align: middle;\n",
       "    }\n",
       "\n",
       "    .dataframe tbody tr th {\n",
       "        vertical-align: top;\n",
       "    }\n",
       "\n",
       "    .dataframe thead th {\n",
       "        text-align: right;\n",
       "    }\n",
       "</style>\n",
       "<table border=\"1\" class=\"dataframe\">\n",
       "  <thead>\n",
       "    <tr style=\"text-align: right;\">\n",
       "      <th></th>\n",
       "      <th>a</th>\n",
       "      <th>b</th>\n",
       "      <th>c</th>\n",
       "    </tr>\n",
       "  </thead>\n",
       "  <tbody>\n",
       "    <tr>\n",
       "      <th style=\"font-style: italic;\" ></th>\n",
       "      <td style=\"font-style: italic;\" >&lt;int64&gt;</td>\n",
       "      <td style=\"font-style: italic;\" >&lt;object&gt;</td>\n",
       "      <td style=\"font-style: italic;\" >&lt;float64&gt;</td>\n",
       "    </tr>\n",
       "    <tr>\n",
       "      <th>0</th>\n",
       "      <td>1</td>\n",
       "      <td>a</td>\n",
       "      <td>0.5</td>\n",
       "    </tr>\n",
       "    <tr>\n",
       "      <th>1</th>\n",
       "      <td>2</td>\n",
       "      <td>b</td>\n",
       "      <td>1.5</td>\n",
       "    </tr>\n",
       "    <tr>\n",
       "      <th>2</th>\n",
       "      <td>3</td>\n",
       "      <td>z</td>\n",
       "      <td>2.5</td>\n",
       "    </tr>\n",
       "  </tbody>\n",
       "</table>\n",
       "</div>\n"
      ],
      "text/plain": [
       "        a        b         c\n",
       "  <int64> <object> <float64>\n",
       "0       1        a       0.5\n",
       "1       2        b       1.5\n",
       "2       3        z       2.5"
      ]
     },
     "execution_count": 7,
     "metadata": {},
     "output_type": "execute_result"
    }
   ],
   "source": [
    "rows_patch(data, tibble(a = [2,3], b = \"z\"))"
   ]
  },
  {
   "cell_type": "code",
   "execution_count": 8,
   "metadata": {
    "execution": {
     "iopub.execute_input": "2021-07-16T22:28:13.145161Z",
     "iopub.status.busy": "2021-07-16T22:28:13.143281Z",
     "iopub.status.idle": "2021-07-16T22:28:13.158501Z",
     "shell.execute_reply": "2021-07-16T22:28:13.158888Z"
    }
   },
   "outputs": [
    {
     "name": "stderr",
     "output_type": "stream",
     "text": [
      "[2022-12-02 14:22:18][datar][   INFO] Matching, by='a'\n"
     ]
    },
    {
     "data": {
      "text/html": [
       "<div>\n",
       "<style scoped>\n",
       "    .dataframe tbody tr th:only-of-type {\n",
       "        vertical-align: middle;\n",
       "    }\n",
       "\n",
       "    .dataframe tbody tr th {\n",
       "        vertical-align: top;\n",
       "    }\n",
       "\n",
       "    .dataframe thead th {\n",
       "        text-align: right;\n",
       "    }\n",
       "</style>\n",
       "<table border=\"1\" class=\"dataframe\">\n",
       "  <thead>\n",
       "    <tr style=\"text-align: right;\">\n",
       "      <th></th>\n",
       "      <th>a</th>\n",
       "      <th>b</th>\n",
       "      <th>c</th>\n",
       "    </tr>\n",
       "  </thead>\n",
       "  <tbody>\n",
       "    <tr>\n",
       "      <th style=\"font-style: italic;\" ></th>\n",
       "      <td style=\"font-style: italic;\" >&lt;int64&gt;</td>\n",
       "      <td style=\"font-style: italic;\" >&lt;object&gt;</td>\n",
       "      <td style=\"font-style: italic;\" >&lt;float64&gt;</td>\n",
       "    </tr>\n",
       "    <tr>\n",
       "      <th>0</th>\n",
       "      <td>1</td>\n",
       "      <td>a</td>\n",
       "      <td>0.5</td>\n",
       "    </tr>\n",
       "    <tr>\n",
       "      <th>1</th>\n",
       "      <td>2</td>\n",
       "      <td>z</td>\n",
       "      <td>1.5</td>\n",
       "    </tr>\n",
       "    <tr>\n",
       "      <th>2</th>\n",
       "      <td>3</td>\n",
       "      <td>z</td>\n",
       "      <td>2.5</td>\n",
       "    </tr>\n",
       "    <tr>\n",
       "      <th>3</th>\n",
       "      <td>4</td>\n",
       "      <td>z</td>\n",
       "      <td>NaN</td>\n",
       "    </tr>\n",
       "  </tbody>\n",
       "</table>\n",
       "</div>\n"
      ],
      "text/plain": [
       "        a        b         c\n",
       "  <int64> <object> <float64>\n",
       "0       1        a       0.5\n",
       "1       2        z       1.5\n",
       "2       3        z       2.5\n",
       "3       4        z       NaN"
      ]
     },
     "execution_count": 8,
     "metadata": {},
     "output_type": "execute_result"
    }
   ],
   "source": [
    "rows_upsert(data, tibble(a = seq(2, 4), b = \"z\"))"
   ]
  },
  {
   "cell_type": "code",
   "execution_count": 9,
   "metadata": {
    "execution": {
     "iopub.execute_input": "2021-07-16T22:28:13.181744Z",
     "iopub.status.busy": "2021-07-16T22:28:13.181046Z",
     "iopub.status.idle": "2021-07-16T22:28:13.219352Z",
     "shell.execute_reply": "2021-07-16T22:28:13.219753Z"
    }
   },
   "outputs": [
    {
     "name": "stderr",
     "output_type": "stream",
     "text": [
      "[2022-12-02 14:22:18][datar][   INFO] Matching, by='a'\n"
     ]
    },
    {
     "data": {
      "text/html": [
       "<div>\n",
       "<style scoped>\n",
       "    .dataframe tbody tr th:only-of-type {\n",
       "        vertical-align: middle;\n",
       "    }\n",
       "\n",
       "    .dataframe tbody tr th {\n",
       "        vertical-align: top;\n",
       "    }\n",
       "\n",
       "    .dataframe thead th {\n",
       "        text-align: right;\n",
       "    }\n",
       "</style>\n",
       "<table border=\"1\" class=\"dataframe\">\n",
       "  <thead>\n",
       "    <tr style=\"text-align: right;\">\n",
       "      <th></th>\n",
       "      <th>a</th>\n",
       "      <th>b</th>\n",
       "      <th>c</th>\n",
       "    </tr>\n",
       "  </thead>\n",
       "  <tbody>\n",
       "    <tr>\n",
       "      <th style=\"font-style: italic;\" ></th>\n",
       "      <td style=\"font-style: italic;\" >&lt;int64&gt;</td>\n",
       "      <td style=\"font-style: italic;\" >&lt;object&gt;</td>\n",
       "      <td style=\"font-style: italic;\" >&lt;float64&gt;</td>\n",
       "    </tr>\n",
       "    <tr>\n",
       "      <th>0</th>\n",
       "      <td>1</td>\n",
       "      <td>a</td>\n",
       "      <td>0.5</td>\n",
       "    </tr>\n",
       "  </tbody>\n",
       "</table>\n",
       "</div>\n"
      ],
      "text/plain": [
       "        a        b         c\n",
       "  <int64> <object> <float64>\n",
       "0       1        a       0.5"
      ]
     },
     "execution_count": 9,
     "metadata": {},
     "output_type": "execute_result"
    }
   ],
   "source": [
    "rows_delete(data, tibble(a = [2, 3]))"
   ]
  },
  {
   "cell_type": "code",
   "execution_count": 10,
   "metadata": {
    "execution": {
     "iopub.execute_input": "2021-07-16T22:28:13.247095Z",
     "iopub.status.busy": "2021-07-16T22:28:13.246408Z",
     "iopub.status.idle": "2021-07-16T22:28:13.280047Z",
     "shell.execute_reply": "2021-07-16T22:28:13.280487Z"
    }
   },
   "outputs": [
    {
     "name": "stderr",
     "output_type": "stream",
     "text": [
      "[2022-12-02 14:22:19][datar][   INFO] Matching, by='a'\n",
      "[2022-12-02 14:22:19][datar][   INFO] Ignoring extra columns: ['b']\n"
     ]
    },
    {
     "data": {
      "text/html": [
       "<div>\n",
       "<style scoped>\n",
       "    .dataframe tbody tr th:only-of-type {\n",
       "        vertical-align: middle;\n",
       "    }\n",
       "\n",
       "    .dataframe tbody tr th {\n",
       "        vertical-align: top;\n",
       "    }\n",
       "\n",
       "    .dataframe thead th {\n",
       "        text-align: right;\n",
       "    }\n",
       "</style>\n",
       "<table border=\"1\" class=\"dataframe\">\n",
       "  <thead>\n",
       "    <tr style=\"text-align: right;\">\n",
       "      <th></th>\n",
       "      <th>a</th>\n",
       "      <th>b</th>\n",
       "      <th>c</th>\n",
       "    </tr>\n",
       "  </thead>\n",
       "  <tbody>\n",
       "    <tr>\n",
       "      <th style=\"font-style: italic;\" ></th>\n",
       "      <td style=\"font-style: italic;\" >&lt;int64&gt;</td>\n",
       "      <td style=\"font-style: italic;\" >&lt;object&gt;</td>\n",
       "      <td style=\"font-style: italic;\" >&lt;float64&gt;</td>\n",
       "    </tr>\n",
       "    <tr>\n",
       "      <th>0</th>\n",
       "      <td>1</td>\n",
       "      <td>a</td>\n",
       "      <td>0.5</td>\n",
       "    </tr>\n",
       "  </tbody>\n",
       "</table>\n",
       "</div>\n"
      ],
      "text/plain": [
       "        a        b         c\n",
       "  <int64> <object> <float64>\n",
       "0       1        a       0.5"
      ]
     },
     "execution_count": 10,
     "metadata": {},
     "output_type": "execute_result"
    }
   ],
   "source": [
    "rows_delete(data, tibble(a = [2, 3], b = \"b\"))"
   ]
  },
  {
   "cell_type": "code",
   "execution_count": 11,
   "metadata": {
    "execution": {
     "iopub.execute_input": "2021-07-16T22:28:13.349257Z",
     "iopub.status.busy": "2021-07-16T22:28:13.348629Z",
     "iopub.status.idle": "2021-07-16T22:28:13.366160Z",
     "shell.execute_reply": "2021-07-16T22:28:13.366676Z"
    }
   },
   "outputs": [
    {
     "name": "stdout",
     "output_type": "stream",
     "text": [
      "[ValueError] Attempting to delete missing rows.\n"
     ]
    }
   ],
   "source": [
    "with try_catch():\n",
    "    rows_delete(data, tibble(a = [2,3], b = \"b\"), by = c(\"a\", \"b\"))"
   ]
  }
 ],
 "metadata": {
  "kernelspec": {
   "display_name": "Python 3.9.5 ('base')",
   "language": "python",
   "name": "python3"
  },
  "language_info": {
   "codemirror_mode": {
    "name": "ipython",
    "version": 3
   },
   "file_extension": ".py",
   "mimetype": "text/x-python",
   "name": "python",
   "nbconvert_exporter": "python",
   "pygments_lexer": "ipython3",
   "version": "3.9.5"
  },
  "vscode": {
   "interpreter": {
    "hash": "9ed5c94d10bf621c6841991b7e31ffd0f3c8de8ec4167710459737a50edc58e4"
   }
  }
 },
 "nbformat": 4,
 "nbformat_minor": 2
}
